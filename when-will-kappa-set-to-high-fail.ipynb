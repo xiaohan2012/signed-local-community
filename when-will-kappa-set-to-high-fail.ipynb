{
 "cells": [
  {
   "cell_type": "markdown",
   "metadata": {},
   "source": [
    "# assumption 1: larger communities require smaller $\\kappa$"
   ]
  },
  {
   "cell_type": "code",
   "execution_count": 1,
   "metadata": {},
   "outputs": [],
   "source": [
    "%matplotlib inline"
   ]
  },
  {
   "cell_type": "code",
   "execution_count": 2,
   "metadata": {},
   "outputs": [],
   "source": [
    "from run_experiment_effect_of_seed_size import *\n",
    "from helpers import degree_diag, signed_layout, draw_nodes, draw_edges, get_borderless_fig\n",
    "from data_helpers import make_polarized_graphs_fewer_parameters"
   ]
  },
  {
   "cell_type": "code",
   "execution_count": 3,
   "metadata": {},
   "outputs": [],
   "source": [
    "random.seed(12345)\n",
    "np.random.seed(12345)"
   ]
  },
  {
   "cell_type": "code",
   "execution_count": 17,
   "metadata": {},
   "outputs": [],
   "source": [
    "k1, k2 = 8, 2\n",
    "nc = [(10, 10) for _ in range(k1)]\n",
    "nc += [(100, 100) for _ in range(k2)]\n",
    "g, true_comms, true_groupings = make_polarized_graphs_fewer_parameters(nc, 0, k1 + k2, 0.1)"
   ]
  },
  {
   "cell_type": "code",
   "execution_count": 18,
   "metadata": {},
   "outputs": [
    {
     "data": {
      "text/plain": [
       "0.2693213949104618"
      ]
     },
     "execution_count": 18,
     "metadata": {},
     "output_type": "execute_result"
    }
   ],
   "source": [
    "noise_level(g)"
   ]
  },
  {
   "cell_type": "code",
   "execution_count": 19,
   "metadata": {},
   "outputs": [
    {
     "data": {
      "image/png": "[encoded data removed]",
      "text/plain": [
       "<matplotlib.figure.Figure at 0x7fbc994ab5c0>"
      ]
     },
     "metadata": {},
     "output_type": "display_data"
    }
   ],
   "source": [
    "fig, ax = get_borderless_fig()\n",
    "pos = signed_layout(g)\n",
    "nx.draw_networkx_nodes(g, pos, node_size=10, ax=ax, linewidths=0, node_color='black')\n",
    "draw_edges(g, pos, ax=ax, width=0.5, alpha=0.5)"
   ]
  },
  {
   "cell_type": "code",
   "execution_count": 20,
   "metadata": {},
   "outputs": [],
   "source": [
    "from helpers import sample_seeds\n",
    "seeds1, target_comm1 = sample_seeds(true_comms, true_groupings, target_comm=1)\n",
    "seeds2, target_comm2 = sample_seeds(true_comms, true_groupings, target_comm=k1)"
   ]
  },
  {
   "cell_type": "code",
   "execution_count": null,
   "metadata": {},
   "outputs": [],
   "source": [
    "kappa = 0.95"
   ]
  },
  {
   "cell_type": "code",
   "execution_count": null,
   "metadata": {},
   "outputs": [],
   "source": [
    "res1 = run_pipeline(g, seeds1, kappa, target_comm1, true_comms, true_groupings, verbose=0)"
   ]
  },
  {
   "cell_type": "code",
   "execution_count": null,
   "metadata": {},
   "outputs": [],
   "source": [
    "res2 = run_pipeline(g, seeds2, kappa, target_comm2, true_comms, true_groupings, verbose=0)"
   ]
  },
  {
   "cell_type": "code",
   "execution_count": null,
   "metadata": {
    "scrolled": true
   },
   "outputs": [],
   "source": [
    "res1"
   ]
  },
  {
   "cell_type": "code",
   "execution_count": null,
   "metadata": {},
   "outputs": [],
   "source": [
    "res2"
   ]
  },
  {
   "cell_type": "code",
   "execution_count": 21,
   "metadata": {},
   "outputs": [
    {
     "name": "stderr",
     "output_type": "stream",
     "text": [
      "\n",
      "  0%|          | 0/16 [00:00<?, ?it/s]\u001b[A\n",
      "  6%|▋         | 1/16 [00:00<00:02,  5.45it/s]\u001b[A\n",
      "100%|██████████| 16/16 [00:48<00:00,  1.09s/it]\u001b[A\n",
      "\u001b[A\n",
      "  0%|          | 0/16 [00:00<?, ?it/s]\u001b[A\n",
      "  6%|▋         | 1/16 [00:00<00:03,  4.69it/s]\u001b[A\n",
      "100%|██████████| 16/16 [00:47<00:00,  1.10s/it]\u001b[A\n",
      "\u001b[A"
     ]
    }
   ],
   "source": [
    "kappa_list = np.linspace(0.1, 0.99, 16)\n",
    "\n",
    "res1_list = Parallel(n_jobs=-1)(\n",
    "    delayed(run_pipeline)(\n",
    "        g, seeds1, kappa, target_comm1, true_comms, true_groupings, verbose=0\n",
    "    )\n",
    "    for kappa in tqdm(kappa_list)\n",
    ")\n",
    "\n",
    "res2_list = Parallel(n_jobs=-1)(\n",
    "    delayed(run_pipeline)(\n",
    "        g, seeds2, kappa, target_comm2, true_comms, true_groupings, verbose=0\n",
    "    )\n",
    "    for kappa in tqdm(kappa_list)\n",
    ")"
   ]
  },
  {
   "cell_type": "code",
   "execution_count": 22,
   "metadata": {},
   "outputs": [],
   "source": [
    "df1 = pd.DataFrame.from_records(res1_list)\n",
    "df2 = pd.DataFrame.from_records(res2_list)"
   ]
  },
  {
   "cell_type": "code",
   "execution_count": 23,
   "metadata": {},
   "outputs": [
    {
     "data": {
      "text/html": [
       "<div>\n",
       "<style scoped>\n",
       "    .dataframe tbody tr th:only-of-type {\n",
       "        vertical-align: middle;\n",
       "    }\n",
       "\n",
       "    .dataframe tbody tr th {\n",
       "        vertical-align: top;\n",
       "    }\n",
       "\n",
       "    .dataframe thead th {\n",
       "        text-align: right;\n",
       "    }\n",
       "</style>\n",
       "<table border=\"1\" class=\"dataframe\">\n",
       "  <thead>\n",
       "    <tr style=\"text-align: right;\">\n",
       "      <th></th>\n",
       "      <th>C1</th>\n",
       "      <th>C1_size</th>\n",
       "      <th>C2</th>\n",
       "      <th>C2_size</th>\n",
       "      <th>C_size</th>\n",
       "      <th>f1_L1</th>\n",
       "      <th>f1_L2</th>\n",
       "      <th>kappa</th>\n",
       "      <th>min_beta</th>\n",
       "      <th>prec_L1</th>\n",
       "      <th>prec_L2</th>\n",
       "      <th>rec_L1</th>\n",
       "      <th>rec_L2</th>\n",
       "      <th>seeds</th>\n",
       "    </tr>\n",
       "  </thead>\n",
       "  <tbody>\n",
       "    <tr>\n",
       "      <th>0</th>\n",
       "      <td>[23, 460, 461, 462, 463, 464, 465, 466, 467, 4...</td>\n",
       "      <td>101</td>\n",
       "      <td>[39, 360, 361, 362, 363, 364, 365, 366, 367, 3...</td>\n",
       "      <td>101</td>\n",
       "      <td>202</td>\n",
       "      <td>0.018018</td>\n",
       "      <td>0.009901</td>\n",
       "      <td>0.100000</td>\n",
       "      <td>0.207327</td>\n",
       "      <td>0.009901</td>\n",
       "      <td>0.009901</td>\n",
       "      <td>0.1</td>\n",
       "      <td>0.009901</td>\n",
       "      <td>[39, 23]</td>\n",
       "    </tr>\n",
       "    <tr>\n",
       "      <th>1</th>\n",
       "      <td>[23, 460, 461, 462, 463, 464, 465, 466, 467, 4...</td>\n",
       "      <td>101</td>\n",
       "      <td>[39, 360, 361, 362, 363, 364, 365, 366, 367, 3...</td>\n",
       "      <td>101</td>\n",
       "      <td>202</td>\n",
       "      <td>0.018018</td>\n",
       "      <td>0.009901</td>\n",
       "      <td>0.159333</td>\n",
       "      <td>0.207327</td>\n",
       "      <td>0.009901</td>\n",
       "      <td>0.009901</td>\n",
       "      <td>0.1</td>\n",
       "      <td>0.009901</td>\n",
       "      <td>[39, 23]</td>\n",
       "    </tr>\n",
       "    <tr>\n",
       "      <th>2</th>\n",
       "      <td>[23, 460, 461, 462, 463, 464, 465, 466, 467, 4...</td>\n",
       "      <td>101</td>\n",
       "      <td>[39, 360, 361, 362, 363, 364, 365, 366, 367, 3...</td>\n",
       "      <td>101</td>\n",
       "      <td>202</td>\n",
       "      <td>0.018018</td>\n",
       "      <td>0.009901</td>\n",
       "      <td>0.218667</td>\n",
       "      <td>0.207327</td>\n",
       "      <td>0.009901</td>\n",
       "      <td>0.009901</td>\n",
       "      <td>0.1</td>\n",
       "      <td>0.009901</td>\n",
       "      <td>[39, 23]</td>\n",
       "    </tr>\n",
       "    <tr>\n",
       "      <th>3</th>\n",
       "      <td>[23, 460, 461, 462, 463, 464, 465, 466, 467, 4...</td>\n",
       "      <td>101</td>\n",
       "      <td>[39, 360, 361, 362, 363, 364, 365, 366, 367, 3...</td>\n",
       "      <td>101</td>\n",
       "      <td>202</td>\n",
       "      <td>0.018018</td>\n",
       "      <td>0.009901</td>\n",
       "      <td>0.278000</td>\n",
       "      <td>0.207327</td>\n",
       "      <td>0.009901</td>\n",
       "      <td>0.009901</td>\n",
       "      <td>0.1</td>\n",
       "      <td>0.009901</td>\n",
       "      <td>[39, 23]</td>\n",
       "    </tr>\n",
       "    <tr>\n",
       "      <th>4</th>\n",
       "      <td>[23, 28, 460, 461, 462, 463, 464, 465, 466, 46...</td>\n",
       "      <td>102</td>\n",
       "      <td>[31, 39, 360, 361, 362, 363, 364, 365, 366, 36...</td>\n",
       "      <td>102</td>\n",
       "      <td>204</td>\n",
       "      <td>0.035714</td>\n",
       "      <td>0.019608</td>\n",
       "      <td>0.337333</td>\n",
       "      <td>0.208361</td>\n",
       "      <td>0.019608</td>\n",
       "      <td>0.019608</td>\n",
       "      <td>0.2</td>\n",
       "      <td>0.019608</td>\n",
       "      <td>[39, 23]</td>\n",
       "    </tr>\n",
       "  </tbody>\n",
       "</table>\n",
       "</div>"
      ],
      "text/plain": [
       "                                                  C1  C1_size  \\\n",
       "0  [23, 460, 461, 462, 463, 464, 465, 466, 467, 4...      101   \n",
       "1  [23, 460, 461, 462, 463, 464, 465, 466, 467, 4...      101   \n",
       "2  [23, 460, 461, 462, 463, 464, 465, 466, 467, 4...      101   \n",
       "3  [23, 460, 461, 462, 463, 464, 465, 466, 467, 4...      101   \n",
       "4  [23, 28, 460, 461, 462, 463, 464, 465, 466, 46...      102   \n",
       "\n",
       "                                                  C2  C2_size  C_size  \\\n",
       "0  [39, 360, 361, 362, 363, 364, 365, 366, 367, 3...      101     202   \n",
       "1  [39, 360, 361, 362, 363, 364, 365, 366, 367, 3...      101     202   \n",
       "2  [39, 360, 361, 362, 363, 364, 365, 366, 367, 3...      101     202   \n",
       "3  [39, 360, 361, 362, 363, 364, 365, 366, 367, 3...      101     202   \n",
       "4  [31, 39, 360, 361, 362, 363, 364, 365, 366, 36...      102     204   \n",
       "\n",
       "      f1_L1     f1_L2     kappa  min_beta   prec_L1   prec_L2  rec_L1  \\\n",
       "0  0.018018  0.009901  0.100000  0.207327  0.009901  0.009901     0.1   \n",
       "1  0.018018  0.009901  0.159333  0.207327  0.009901  0.009901     0.1   \n",
       "2  0.018018  0.009901  0.218667  0.207327  0.009901  0.009901     0.1   \n",
       "3  0.018018  0.009901  0.278000  0.207327  0.009901  0.009901     0.1   \n",
       "4  0.035714  0.019608  0.337333  0.208361  0.019608  0.019608     0.2   \n",
       "\n",
       "     rec_L2     seeds  \n",
       "0  0.009901  [39, 23]  \n",
       "1  0.009901  [39, 23]  \n",
       "2  0.009901  [39, 23]  \n",
       "3  0.009901  [39, 23]  \n",
       "4  0.019608  [39, 23]  "
      ]
     },
     "execution_count": 23,
     "metadata": {},
     "output_type": "execute_result"
    }
   ],
   "source": [
    "df1.head()"
   ]
  },
  {
   "cell_type": "code",
   "execution_count": 29,
   "metadata": {},
   "outputs": [
    {
     "name": "stderr",
     "output_type": "stream",
     "text": [
      "/usr/local/lib/python3.5/dist-packages/pandas/plotting/_core.py:1716: UserWarning: Pandas doesn't allow columns to be created via a new attribute name - see https://pandas.pydata.org/pandas-docs/stable/indexing.html#attribute-access\n",
      "  series.name = label\n"
     ]
    },
    {
     "data": {
      "text/plain": [
       "(0, 1.1)"
      ]
     },
     "execution_count": 29,
     "metadata": {},
     "output_type": "execute_result"
    },
    {
     "data": {
      "image/png": "[encoded data removed]",
      "text/plain": [
       "<matplotlib.figure.Figure at 0x7fbc77e2eba8>"
      ]
     },
     "metadata": {},
     "output_type": "display_data"
    }
   ],
   "source": [
    "from matplotlib import pyplot as plt\n",
    "fig, ax = plt.subplots(1, 1)\n",
    "df1.plot(x='kappa', y=['f1_L1'], style='o-', ax=ax)\n",
    "df2.plot(x='kappa', y=['f1_L1'], style='o-', ax=ax)\n",
    "ax.legend(['f1_L1_seeds1', 'f1_L1_seeds2'], loc='best')\n",
    "ax.set_ylim([0, 1.1])"
   ]
  }
 ],
 "metadata": {
  "kernelspec": {
   "display_name": "Python 3",
   "language": "python",
   "name": "python3"
  },
  "language_info": {
   "codemirror_mode": {
    "name": "ipython",
    "version": 3
   },
   "file_extension": ".py",
   "mimetype": "text/x-python",
   "name": "python",
   "nbconvert_exporter": "python",
   "pygments_lexer": "ipython3",
   "version": "3.5.2"
  }
 },
 "nbformat": 4,
 "nbformat_minor": 2
}
