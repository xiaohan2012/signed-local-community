{
 "cells": [
  {
   "cell_type": "code",
   "execution_count": 22,
   "metadata": {},
   "outputs": [],
   "source": [
    "%matplotlib inline"
   ]
  },
  {
   "cell_type": "code",
   "execution_count": 23,
   "metadata": {},
   "outputs": [],
   "source": [
    "import networkx as nx\n",
    "import numpy as np\n",
    "import scipy\n",
    "import pandas as pd\n",
    "import random\n",
    "\n",
    "from matplotlib import pyplot as plt\n",
    "\n",
    "from data_helpers import make_polarized_graphs\n",
    "from core import query_graph_using_dense_matrix, sweep_on_x\n",
    "from helpers import flatten\n"
   ]
  },
  {
   "cell_type": "code",
   "execution_count": 24,
   "metadata": {},
   "outputs": [],
   "source": [
    "random.seed(12345)\n",
    "np.random.seed(12345)\n",
    "\n",
    "size = 10\n",
    "k = 2 \n",
    "g, true_comms, true_groupings = make_polarized_graphs(k, [(size, size) for i in range(k)])\n",
    "A = nx.adj_matrix(g, weight='sign')"
   ]
  },
  {
   "cell_type": "markdown",
   "metadata": {},
   "source": [
    "# check if the correlation constraint is tight (from SDP)"
   ]
  },
  {
   "cell_type": "code",
   "execution_count": 25,
   "metadata": {},
   "outputs": [
    {
     "name": "stdout",
     "output_type": "stream",
     "text": [
      "WARN: m less than n, problem likely degenerate\n",
      "alpha= 0.198893609536022\n",
      "beta= 1.0038596859017648\n",
      "[13 18 17 10 11 14 12 15 19 16 30 39 21 35 33 36 37 31 38 34 25 22 20 26\n",
      " 24 29 32 23 27 28  8  9  0  5  2  1  7  6  3  4]\n"
     ]
    }
   ],
   "source": [
    "import numpy as np\n",
    "from scipy.sparse.linalg import eigs\n",
    "\n",
    "import cvxpy as cp\n",
    "\n",
    "from helpers import (\n",
    "    signed_laplacian,\n",
    "    prepare_seed_vector,\n",
    "    degree_diag,\n",
    "    is_rank_one,\n",
    "    sbr_by_threshold\n",
    ")\n",
    "\n",
    "kappa = 0.7\n",
    "\n",
    "seeds = [\n",
    "    [4], [13],\n",
    "]\n",
    "\n",
    "\n",
    "n = g.number_of_nodes()\n",
    "L = signed_laplacian(g).A\n",
    "D = degree_diag(g).A\n",
    "\n",
    "s = prepare_seed_vector(seeds, D)\n",
    "\n",
    "# requirement check\n",
    "_, v1 = eigs(np.real(L), k=1, which='SM')\n",
    "assert not np.isclose((s.T @ np.real(v1))[0, 0], 0)\n",
    "\n",
    "DsDsT = (D @ s) @ (D @ s).T\n",
    "\n",
    "X = cp.Variable((n, n))\n",
    "constraints = [\n",
    "    X >> 0,\n",
    "    cp.trace(D @ X) == 1,\n",
    "    cp.trace(DsDsT @ X) >= kappa\n",
    "]\n",
    "prob = cp.Problem(cp.Minimize(cp.trace(L @ X)), constraints)\n",
    "\n",
    "opt_val = prob.solve(eps=1e-10)\n",
    "\n",
    "print('alpha=', constraints[1].dual_value)\n",
    "print('beta=', constraints[2].dual_value)\n",
    "assert np.isclose(constraints[2].residual, 0), \"correlation constraint should be tight!\"\n",
    "\n",
    "x_opt = X.value[0, :]\n",
    "D_sq = np.diag(np.sqrt(np.diag(D)))\n",
    "# normalize to such that x^T D x = 1\n",
    "x_opt = x_opt / np.sqrt(x_opt @ D @ x_opt[:, None])\n",
    "\n",
    "# x^T D x = 1\n",
    "assert np.isclose(x_opt @ D @ x_opt[:, None], 1)\n",
    "\n",
    "# s^T D x = 1\n",
    "assert np.isclose((x_opt @ D @ s)**2, kappa, atol=1e-3)\n",
    "\n",
    "print(np.argsort(x_opt))"
   ]
  },
  {
   "cell_type": "markdown",
   "metadata": {},
   "source": [
    "## conclusion\n",
    "\n",
    "- correlation constraint is tight"
   ]
  },
  {
   "cell_type": "markdown",
   "metadata": {},
   "source": [
    "# solve linear system usnig $\\alpha^{*}$ (numerical stability issue could arise)"
   ]
  },
  {
   "cell_type": "code",
   "execution_count": 26,
   "metadata": {},
   "outputs": [],
   "source": [
    "n = g.number_of_nodes()\n",
    "L = signed_laplacian(g)\n",
    "D = degree_diag(g)\n"
   ]
  },
  {
   "cell_type": "code",
   "execution_count": 27,
   "metadata": {},
   "outputs": [
    {
     "name": "stdout",
     "output_type": "stream",
     "text": [
      "y/x_opt [[ -1.96139505  -1.4524639   -2.1238421   -1.47171285  -0.16989237\n",
      "   -2.06202635  -1.55462491  -2.13929172  -2.79051998  -2.07333373\n",
      "   -1.29733388  -1.47127753  -1.89263965   0.06284787  -1.94613782\n",
      "   -1.8347658   -5.35781326  -1.49651444  -1.52940226  -1.1050006\n",
      "    8.30868916 -10.11231598   8.78899135   1.1801487    6.45196518\n",
      "   11.58674796   9.17816119   1.14380505   0.0609099    8.67645437\n",
      "    0.96192606  16.85314891  -9.46436153   3.00677005  15.52706097\n",
      "    7.91917134  12.56938482  13.18641059  14.73612463   1.56945348]]\n",
      "y [[-0.0574527  -0.0580015  -0.07641299 -0.06339318 -0.0275918  -0.06883934\n",
      "  -0.06314604 -0.08681728 -0.06516751 -0.05643026  0.0498793   0.05500156\n",
      "   0.06466768 -0.01044185  0.07144404  0.05782207  0.06849034  0.05941406\n",
      "   0.06218344  0.02328673  0.00994615  0.01359103  0.01028192  0.0045221\n",
      "   0.00884245  0.01195837  0.01203348  0.00447351  0.00024927  0.0123085\n",
      "  -0.00375429 -0.01382279 -0.01417022 -0.00304701 -0.01104062 -0.01059764\n",
      "  -0.01267915 -0.01238104 -0.01176287 -0.00457377]]\n",
      "node order [[ 7  2  5  8  3  6  1  0  9  4 32 31 36 37 38 34 35 13 39 30 33 28 27 23\n",
      "  24 20 22 25 26 29 21 19 10 11 15 17 18 12 16 14]]\n"
     ]
    }
   ],
   "source": [
    "from numpy import linalg as LA\n",
    "from scipy.sparse import diags\n",
    "from scipy.sparse.linalg import spsolve\n",
    "b = D @ s\n",
    "\n",
    "alpha_opt = constraints[1].dual_value\n",
    "A = L - alpha_opt * D  \n",
    "\n",
    "# is it numerically stable? as we assume L - \\alpha^{*} D has rank n-1\n",
    "y = spsolve(A, b)\n",
    "\n",
    "# normalize so that y^T D y = 1\n",
    "y /= LA.norm(y, 2)\n",
    "y = diags(1 / np.sqrt(D.diagonal())) @ y[:, None]\n",
    "\n",
    "assert np.isclose((y.T @ D @ y)[0, 0], 1), 'y not normalized w.r.t D'\n",
    "\n",
    "print('y/x_opt', y.T / x_opt)\n",
    "print('y', y.T)\n",
    "print('node order', np.argsort(y.T))"
   ]
  },
  {
   "cell_type": "code",
   "execution_count": 28,
   "metadata": {},
   "outputs": [
    {
     "name": "stdout",
     "output_type": "stream",
     "text": [
      "lambda_1= (-0.8519099893484773+0j)\n",
      "lambda_n= (15.92531716412138+0j)\n",
      "condition number = 18.693661728630186\n"
     ]
    }
   ],
   "source": [
    "lam_1 = eigs(A, k=1, which='SM')[0][0]\n",
    "lam_n = eigs(A, k=1, which='LM')[0][0]\n",
    "print('lambda_1=', lam_1) # <--almost 0 because of rank reduction\n",
    "print('lambda_n=', lam_n)\n",
    "print('condition number =', abs(lam_n / lam_1))"
   ]
  },
  {
   "cell_type": "markdown",
   "metadata": {},
   "source": [
    "# relation  between $\\alpha$ and correlation constraint residual"
   ]
  },
  {
   "cell_type": "code",
   "execution_count": 29,
   "metadata": {},
   "outputs": [
    {
     "name": "stdout",
     "output_type": "stream",
     "text": [
      "(40, 40) (40, 1)\n"
     ]
    }
   ],
   "source": [
    "from scipy.sparse.linalg import eigs, spsolve, cg\n",
    "\n",
    "s = prepare_seed_vector(seeds, D)\n",
    "\n",
    "n = g.number_of_nodes()\n",
    "L = signed_laplacian(g)\n",
    "D = degree_diag(g)\n",
    "\n",
    "# lb = - g.number_of_edges() * 2\n",
    "lb = -2\n",
    "lambda1 = eigs(L, k=1, which='SM')[0][0]  # THIS IS WRONG!!!! Use the **normalized** Laplacian\n",
    "ub = np.real(lambda1)\n",
    "\n",
    "b = D @ s\n",
    "gamma_list = np.linspace(lb, ub, 1000)\n",
    "gap_list = []\n",
    "y_list = []\n",
    "print(A.shape, b.shape)\n",
    "for gamma in gamma_list:\n",
    "    A = L - gamma * D\n",
    "    if True:\n",
    "        # conjugate gradient solver\n",
    "        y, info = cg(A, b)\n",
    "        if info != 0:\n",
    "            print('error, info=', info)\n",
    "    else:\n",
    "        # linear system solver\n",
    "        y = spsolve(A, b)\n",
    "        \n",
    "    y /= LA.norm(y, 2)\n",
    "    y = diags(1 / np.sqrt(D.diagonal())) @ y[:, None]\n",
    "\n",
    "    assert np.isclose((y.T @ D @ y)[0, 0], 1), 'y not normalized w.r.t D'\n",
    "\n",
    "    gap = (np.sqrt(kappa) - y.T @ D @ s)[0, 0]\n",
    "    \n",
    "    y_list.append(y)\n",
    "    gap_list.append(gap)"
   ]
  },
  {
   "cell_type": "code",
   "execution_count": 30,
   "metadata": {},
   "outputs": [
    {
     "data": {
      "text/plain": [
       "<matplotlib.axes._subplots.AxesSubplot at 0x7f02bb11b5f8>"
      ]
     },
     "execution_count": 30,
     "metadata": {},
     "output_type": "execute_result"
    },
    {
     "data": {
      "image/png": "[encoded data removed]",
      "text/plain": [
       "<matplotlib.figure.Figure at 0x7f02bb0d9dd8>"
      ]
     },
     "metadata": {},
     "output_type": "display_data"
    }
   ],
   "source": [
    "df = pd.DataFrame.from_dict({'y': y_list, 'alpha': gamma_list, 'residual': gap_list})\n",
    "df['abs_residual'] = df['residual'].abs()\n",
    "df.plot(x='alpha', y='residual', style=['.-'])"
   ]
  },
  {
   "cell_type": "markdown",
   "metadata": {},
   "source": [
    "### questions\n",
    "\n",
    "- why the fluctuations from 0.0 upwards?\n",
    "- why the best $\\alpha$ here is different from the $\\alpha$ in SDP?"
   ]
  },
  {
   "cell_type": "code",
   "execution_count": 31,
   "metadata": {},
   "outputs": [
    {
     "data": {
      "text/html": [
       "<div>\n",
       "<style scoped>\n",
       "    .dataframe tbody tr th:only-of-type {\n",
       "        vertical-align: middle;\n",
       "    }\n",
       "\n",
       "    .dataframe tbody tr th {\n",
       "        vertical-align: top;\n",
       "    }\n",
       "\n",
       "    .dataframe thead th {\n",
       "        text-align: right;\n",
       "    }\n",
       "</style>\n",
       "<table border=\"1\" class=\"dataframe\">\n",
       "  <thead>\n",
       "    <tr style=\"text-align: right;\">\n",
       "      <th></th>\n",
       "      <th>alpha</th>\n",
       "      <th>residual</th>\n",
       "      <th>y</th>\n",
       "      <th>abs_residual</th>\n",
       "    </tr>\n",
       "  </thead>\n",
       "  <tbody>\n",
       "    <tr>\n",
       "      <th>536</th>\n",
       "      <td>-0.183790</td>\n",
       "      <td>0.000621</td>\n",
       "      <td>[[0.03156807432367406], [0.04112115231024713],...</td>\n",
       "      <td>0.000621</td>\n",
       "    </tr>\n",
       "    <tr>\n",
       "      <th>535</th>\n",
       "      <td>-0.187179</td>\n",
       "      <td>-0.001451</td>\n",
       "      <td>[[0.03138253376730166], [0.04093080458090798],...</td>\n",
       "      <td>0.001451</td>\n",
       "    </tr>\n",
       "    <tr>\n",
       "      <th>537</th>\n",
       "      <td>-0.180402</td>\n",
       "      <td>0.002731</td>\n",
       "      <td>[[0.03175543312517406], [0.04131290404695293],...</td>\n",
       "      <td>0.002731</td>\n",
       "    </tr>\n",
       "    <tr>\n",
       "      <th>534</th>\n",
       "      <td>-0.190567</td>\n",
       "      <td>-0.003486</td>\n",
       "      <td>[[0.03119879457733433], [0.040741857883688865]...</td>\n",
       "      <td>0.003486</td>\n",
       "    </tr>\n",
       "    <tr>\n",
       "      <th>538</th>\n",
       "      <td>-0.177013</td>\n",
       "      <td>0.004880</td>\n",
       "      <td>[[0.03194462688327459], [0.0415060621549289], ...</td>\n",
       "      <td>0.004880</td>\n",
       "    </tr>\n",
       "    <tr>\n",
       "      <th>533</th>\n",
       "      <td>-0.193955</td>\n",
       "      <td>-0.005484</td>\n",
       "      <td>[[0.03101683973298032], [0.04055430867099873],...</td>\n",
       "      <td>0.005484</td>\n",
       "    </tr>\n",
       "    <tr>\n",
       "      <th>539</th>\n",
       "      <td>-0.173625</td>\n",
       "      <td>0.007069</td>\n",
       "      <td>[[0.032135672115284425], [0.0417006283455375],...</td>\n",
       "      <td>0.007069</td>\n",
       "    </tr>\n",
       "    <tr>\n",
       "      <th>532</th>\n",
       "      <td>-0.197344</td>\n",
       "      <td>-0.007446</td>\n",
       "      <td>[[0.030836652094924023], [0.0403681528598232],...</td>\n",
       "      <td>0.007446</td>\n",
       "    </tr>\n",
       "    <tr>\n",
       "      <th>540</th>\n",
       "      <td>-0.170236</td>\n",
       "      <td>0.009299</td>\n",
       "      <td>[[0.03232858511559456], [0.041896603634072056]...</td>\n",
       "      <td>0.009299</td>\n",
       "    </tr>\n",
       "    <tr>\n",
       "      <th>531</th>\n",
       "      <td>-0.200732</td>\n",
       "      <td>-0.009374</td>\n",
       "      <td>[[0.030658214427329314], [0.040183385866682644...</td>\n",
       "      <td>0.009374</td>\n",
       "    </tr>\n",
       "  </tbody>\n",
       "</table>\n",
       "</div>"
      ],
      "text/plain": [
       "        alpha  residual                                                  y  \\\n",
       "536 -0.183790  0.000621  [[0.03156807432367406], [0.04112115231024713],...   \n",
       "535 -0.187179 -0.001451  [[0.03138253376730166], [0.04093080458090798],...   \n",
       "537 -0.180402  0.002731  [[0.03175543312517406], [0.04131290404695293],...   \n",
       "534 -0.190567 -0.003486  [[0.03119879457733433], [0.040741857883688865]...   \n",
       "538 -0.177013  0.004880  [[0.03194462688327459], [0.0415060621549289], ...   \n",
       "533 -0.193955 -0.005484  [[0.03101683973298032], [0.04055430867099873],...   \n",
       "539 -0.173625  0.007069  [[0.032135672115284425], [0.0417006283455375],...   \n",
       "532 -0.197344 -0.007446  [[0.030836652094924023], [0.0403681528598232],...   \n",
       "540 -0.170236  0.009299  [[0.03232858511559456], [0.041896603634072056]...   \n",
       "531 -0.200732 -0.009374  [[0.030658214427329314], [0.040183385866682644...   \n",
       "\n",
       "     abs_residual  \n",
       "536      0.000621  \n",
       "535      0.001451  \n",
       "537      0.002731  \n",
       "534      0.003486  \n",
       "538      0.004880  \n",
       "533      0.005484  \n",
       "539      0.007069  \n",
       "532      0.007446  \n",
       "540      0.009299  \n",
       "531      0.009374  "
      ]
     },
     "execution_count": 31,
     "metadata": {},
     "output_type": "execute_result"
    }
   ],
   "source": [
    "df.sort_values(by='abs_residual', ascending=True).head(10)"
   ]
  },
  {
   "cell_type": "code",
   "execution_count": 32,
   "metadata": {},
   "outputs": [
    {
     "name": "stdout",
     "output_type": "stream",
     "text": [
      "min_pos 536\n",
      "alpha                                                    -0.18379\n",
      "residual                                              0.000620934\n",
      "y               [[0.03156807432367406], [0.04112115231024713],...\n",
      "abs_residual                                          0.000620934\n",
      "Name: 536, dtype: object\n"
     ]
    }
   ],
   "source": [
    "min_pos = df['abs_residual'].idxmin()\n",
    "print('min_pos', min_pos)\n",
    "print(df.iloc[min_pos])"
   ]
  },
  {
   "cell_type": "code",
   "execution_count": 33,
   "metadata": {
    "scrolled": true
   },
   "outputs": [
    {
     "name": "stdout",
     "output_type": "stream",
     "text": [
      "x_opt(SDP) / y: [[1.07771194 1.02974908 1.00218376 0.96095702 0.96349426 1.00176999\n",
      "  0.96157006 1.24317896 0.97846892 1.03732259 0.99158415 0.96054483\n",
      "  0.96688204 1.03701798 1.0786745  0.99908685 1.0834897  0.93138703\n",
      "  0.93142046 1.06775708 1.14102158 0.9437951  1.09758494 1.10534923\n",
      "  1.09095222 1.03157305 1.14280023 1.10258652 1.10265224 1.18984706\n",
      "  1.10529734 1.21617174 0.93849277 1.04306492 1.16284959 1.05691426\n",
      "  1.15427166 1.2014746  1.07693653 0.93726841]]\n"
     ]
    }
   ],
   "source": [
    "print('x_opt(SDP) / y:', df.iloc[min_pos].y.T / x_opt)"
   ]
  },
  {
   "cell_type": "markdown",
   "metadata": {},
   "source": [
    "### what is strange?\n",
    "\n",
    "- `x_opt` (by SDP) and `y` (by linear solver) really close, even though the $\\alpha$ they used is different"
   ]
  },
  {
   "cell_type": "code",
   "execution_count": 34,
   "metadata": {},
   "outputs": [
    {
     "name": "stdout",
     "output_type": "stream",
     "text": [
      "alpha from SDP:  0.198893609536022\n",
      "alpha from linear solver -0.18379012753640223\n",
      "**their signs are **different!**\n"
     ]
    }
   ],
   "source": [
    "print('alpha from SDP: ', alpha_opt)\n",
    "print('alpha from linear solver', df.iloc[min_pos].alpha)\n",
    "print('**their signs are', alpha_opt * df.iloc[min_pos].alpha > 0 and \"same\" or \"**different!**\")"
   ]
  },
  {
   "cell_type": "code",
   "execution_count": 35,
   "metadata": {},
   "outputs": [
    {
     "name": "stdout",
     "output_type": "stream",
     "text": [
      "y: [[-0.17229521 -0.03959887 -0.03812398 -0.03787031 -0.03697758 -0.03590856\n",
      "  -0.03303641 -0.03148591 -0.02250187 -0.01385053 -0.00431385 -0.00273143\n",
      "  -0.00141439 -0.00126847 -0.00116435 -0.00112809 -0.00105702 -0.00099749\n",
      "  -0.00085965 -0.00082685  0.00106466  0.00128402  0.00136589  0.00140513\n",
      "   0.00149516  0.00149832  0.00168793  0.00423548  0.0043123   0.00451254\n",
      "   0.02285036  0.02823298  0.03156807  0.0334434   0.03605723  0.03905723\n",
      "   0.04112115  0.04139267  0.050451    0.15647871]]\n",
      "node order:  [[13 14 10 18 17 11 12 15 19 16 30 39 35 21 36 37 33 31 38 34 25 22 20 32\n",
      "  24 26 29 23 27 28  8  9  0  5  2  6  1  3  7  4]]\n"
     ]
    }
   ],
   "source": [
    "print('y:', np.sort(df.iloc[min_pos].y.T))\n",
    "print('node order: ', np.argsort(df.iloc[min_pos].y.T))"
   ]
  },
  {
   "cell_type": "markdown",
   "metadata": {},
   "source": [
    "# binary search on best $\\alpha$"
   ]
  },
  {
   "cell_type": "code",
   "execution_count": 15,
   "metadata": {},
   "outputs": [
    {
     "name": "stdout",
     "output_type": "stream",
     "text": [
      "matrices loading done\n",
      "found lambda_1= (0.10625088207286182+0j)\n",
      "at iteration 5 (alpha=-16.52207)\n",
      "residual: sqrt(kappa) - y' D s=-0.16243300775250202\n",
      "at iteration 10 (alpha=-0.41338)\n",
      "residual: sqrt(kappa) - y' D s=-0.08410848378875846\n",
      "terminates after 14 iterations:\n",
      "  - alpha=-0.18604\n",
      "  - residual=-0.00076\n"
     ]
    }
   ],
   "source": [
    "from core import query_graph_using_sparse_linear_solver\n",
    "\n",
    "x_opt_sp, val_opt = query_graph_using_sparse_linear_solver(g, seeds, kappa, verbose=1)"
   ]
  },
  {
   "cell_type": "code",
   "execution_count": 16,
   "metadata": {},
   "outputs": [
    {
     "data": {
      "text/plain": [
       "count    40.000000\n",
       "mean      1.045820\n",
       "std       0.081768\n",
       "min       0.928034\n",
       "25%       0.970553\n",
       "50%       1.041302\n",
       "75%       1.095096\n",
       "max       1.238488\n",
       "dtype: float64"
      ]
     },
     "execution_count": 16,
     "metadata": {},
     "output_type": "execute_result"
    }
   ],
   "source": [
    "# difference w.r.t to the x_opt by SDP\n",
    "ratio = x_opt_sp / x_opt\n",
    "pd.Series(ratio).describe()"
   ]
  },
  {
   "cell_type": "markdown",
   "metadata": {},
   "source": [
    "# running time comparison with SDP"
   ]
  },
  {
   "cell_type": "code",
   "execution_count": 17,
   "metadata": {},
   "outputs": [],
   "source": [
    "from core import query_graph_using_dense_matrix\n",
    "from helpers import sample_seeds"
   ]
  },
  {
   "cell_type": "code",
   "execution_count": 18,
   "metadata": {},
   "outputs": [],
   "source": [
    "random.seed(12345)\n",
    "np.random.seed(12345)\n",
    "\n",
    "size = 10\n",
    "k = 6\n",
    "g, true_comms, true_groupings = make_polarized_graphs(k, [(size, size) for i in range(k)])\n",
    "A = nx.adj_matrix(g, weight='sign')"
   ]
  },
  {
   "cell_type": "code",
   "execution_count": 19,
   "metadata": {},
   "outputs": [],
   "source": [
    "def wrapper_sp():\n",
    "    seeds, target_comm = sample_seeds(true_comms, true_groupings)\n",
    "    query_graph_using_sparse_linear_solver(g, seeds, kappa, verbose=0)\n",
    "    \n",
    "def wrapper_sdp():\n",
    "    seeds, target_comm = sample_seeds(true_comms, true_groupings)\n",
    "    query_graph_using_dense_matrix(g, seeds, kappa, verbose=0)"
   ]
  },
  {
   "cell_type": "code",
   "execution_count": 20,
   "metadata": {},
   "outputs": [
    {
     "name": "stdout",
     "output_type": "stream",
     "text": [
      "43.9 ms ± 0 ns per loop (mean ± std. dev. of 1 run, 10 loops each)\n"
     ]
    }
   ],
   "source": [
    "% timeit -n10 -r1 wrapper_sp()"
   ]
  },
  {
   "cell_type": "code",
   "execution_count": 21,
   "metadata": {},
   "outputs": [
    {
     "name": "stdout",
     "output_type": "stream",
     "text": [
      "WARN: m less than n, problem likely degenerate\n",
      "WARN: m less than n, problem likely degenerate\n",
      "WARN: m less than n, problem likely degenerate\n",
      "WARN: m less than n, problem likely degenerate\n",
      "WARN: m less than n, problem likely degenerate\n",
      "WARN: m less than n, problem likely degenerate\n",
      "WARN: m less than n, problem likely degenerate\n",
      "WARN: m less than n, problem likely degenerate\n",
      "WARN: m less than n, problem likely degenerate\n",
      "WARN: m less than n, problem likely degenerate\n",
      "553 ms ± 0 ns per loop (mean ± std. dev. of 1 run, 10 loops each)\n"
     ]
    }
   ],
   "source": [
    "% timeit -n10 -r1 wrapper_sdp()"
   ]
  },
  {
   "cell_type": "markdown",
   "metadata": {},
   "source": [
    "## conclusion\n",
    "\n",
    "- time difference is 10 fold on a small graph"
   ]
  }
 ],
 "metadata": {
  "kernelspec": {
   "display_name": "Python 3",
   "language": "python",
   "name": "python3"
  },
  "language_info": {
   "codemirror_mode": {
    "name": "ipython",
    "version": 3
   },
   "file_extension": ".py",
   "mimetype": "text/x-python",
   "name": "python",
   "nbconvert_exporter": "python",
   "pygments_lexer": "ipython3",
   "version": "3.5.2"
  }
 },
 "nbformat": 4,
 "nbformat_minor": 2
}
