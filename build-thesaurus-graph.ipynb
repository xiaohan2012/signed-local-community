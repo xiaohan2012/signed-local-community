{
 "cells": [
  {
   "cell_type": "code",
   "execution_count": 44,
   "metadata": {},
   "outputs": [],
   "source": [
    "import json\n",
    "import networkx as nx\n",
    "import scipy\n",
    "import scipy.sparse as sp"
   ]
  },
  {
   "cell_type": "code",
   "execution_count": 33,
   "metadata": {},
   "outputs": [],
   "source": [
    "data = json.load(open('graphs/thesaurus.json', 'r'))"
   ]
  },
  {
   "cell_type": "code",
   "execution_count": 90,
   "metadata": {},
   "outputs": [],
   "source": [
    "g = nx.DiGraph()\n",
    "for d in data:\n",
    "    u, v, s = d['w1'], d['w2'], d['sign']\n",
    "    g.add_edge(u, v, sign=s)"
   ]
  },
  {
   "cell_type": "code",
   "execution_count": 91,
   "metadata": {},
   "outputs": [],
   "source": [
    "w2i = {w: i for i, w in enumerate(g.nodes())}\n",
    "i2w = {i: w for i, w in enumerate(g.nodes())}\n",
    "g = nx.relabel_nodes(g, mapping=w2i)"
   ]
  },
  {
   "cell_type": "code",
   "execution_count": 92,
   "metadata": {},
   "outputs": [],
   "source": [
    "A = nx.adj_matrix(g, weight='sign')\n",
    "\n",
    "# only consider pairs that have both (u->v) and (v->u) with the same sign\n",
    "A = (A + A.transpose()).astype(int)\n",
    "A = ((A == 2).astype(int) + (A == -2).astype(int) * -1)"
   ]
  },
  {
   "cell_type": "code",
   "execution_count": 93,
   "metadata": {},
   "outputs": [],
   "source": [
    "g = nx.from_scipy_sparse_matrix(A, edge_attribute='sign')\n",
    "g.graph['w2i'] = w2i\n",
    "g.graph['i2w'] = i2w"
   ]
  },
  {
   "cell_type": "code",
   "execution_count": 94,
   "metadata": {},
   "outputs": [
    {
     "name": "stdout",
     "output_type": "stream",
     "text": [
      "-1 depressed\n",
      "1 upbeat\n",
      "-1 sad\n",
      "-1 troubled\n",
      "-1 miserable\n",
      "-1 sorrowful\n",
      "1 pleased\n",
      "-1 unhappy\n",
      "-1 melancholy\n"
     ]
    }
   ],
   "source": [
    "# sanity check\n",
    "for n, attr in g[w2i['happy']].items():\n",
    "    print(attr['sign'], i2w[n])"
   ]
  },
  {
   "cell_type": "code",
   "execution_count": 95,
   "metadata": {},
   "outputs": [],
   "source": [
    "nx.write_gpickle(g, 'graphs/thesaurus.pkl')"
   ]
  }
 ],
 "metadata": {
  "kernelspec": {
   "display_name": "Python 3",
   "language": "python",
   "name": "python3"
  },
  "language_info": {
   "codemirror_mode": {
    "name": "ipython",
    "version": 3
   },
   "file_extension": ".py",
   "mimetype": "text/x-python",
   "name": "python",
   "nbconvert_exporter": "python",
   "pygments_lexer": "ipython3",
   "version": "3.5.2"
  }
 },
 "nbformat": 4,
 "nbformat_minor": 2
}
