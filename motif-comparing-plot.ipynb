{
 "cells": [
  {
   "cell_type": "code",
   "execution_count": 1,
   "metadata": {},
   "outputs": [],
   "source": [
    "%matplotlib inline"
   ]
  },
  {
   "cell_type": "code",
   "execution_count": 2,
   "metadata": {},
   "outputs": [],
   "source": [
    "import seaborn as sns\n",
    "import networkx as nx\n",
    "import pandas as pd\n",
    "import matplotlib.pyplot as plt\n"
   ]
  },
  {
   "cell_type": "code",
   "execution_count": 15,
   "metadata": {},
   "outputs": [],
   "source": [
    "name = 'thesaurus'\n",
    "df = pd.read_csv('eval_results/{}.csv'.format(name), sep=' ')"
   ]
  },
  {
   "cell_type": "code",
   "execution_count": 16,
   "metadata": {},
   "outputs": [],
   "source": [
    "df['method'] = df['method'].apply(lambda m: m.split('-')[1])"
   ]
  },
  {
   "cell_type": "code",
   "execution_count": 17,
   "metadata": {},
   "outputs": [
    {
     "data": {
      "text/html": [
       "<div>\n",
       "<style scoped>\n",
       "    .dataframe tbody tr th:only-of-type {\n",
       "        vertical-align: middle;\n",
       "    }\n",
       "\n",
       "    .dataframe tbody tr th {\n",
       "        vertical-align: top;\n",
       "    }\n",
       "\n",
       "    .dataframe thead th {\n",
       "        text-align: right;\n",
       "    }\n",
       "</style>\n",
       "<table border=\"1\" class=\"dataframe\">\n",
       "  <thead>\n",
       "    <tr style=\"text-align: right;\">\n",
       "      <th></th>\n",
       "      <th>query</th>\n",
       "      <th>n</th>\n",
       "      <th>m</th>\n",
       "      <th>inter_neg</th>\n",
       "      <th>intra_pos</th>\n",
       "      <th>f1</th>\n",
       "      <th>avg_cc</th>\n",
       "      <th>diameter</th>\n",
       "    </tr>\n",
       "    <tr>\n",
       "      <th>method</th>\n",
       "      <th></th>\n",
       "      <th></th>\n",
       "      <th></th>\n",
       "      <th></th>\n",
       "      <th></th>\n",
       "      <th></th>\n",
       "      <th></th>\n",
       "      <th></th>\n",
       "    </tr>\n",
       "  </thead>\n",
       "  <tbody>\n",
       "    <tr>\n",
       "      <th>m1</th>\n",
       "      <td>7861.642558</td>\n",
       "      <td>1860.446244</td>\n",
       "      <td>16809.423066</td>\n",
       "      <td>0.532417</td>\n",
       "      <td>0.651686</td>\n",
       "      <td>0.502711</td>\n",
       "      <td>0.395980</td>\n",
       "      <td>10.326724</td>\n",
       "    </tr>\n",
       "    <tr>\n",
       "      <th>m1m2</th>\n",
       "      <td>7837.189175</td>\n",
       "      <td>2828.666791</td>\n",
       "      <td>20901.850352</td>\n",
       "      <td>0.571484</td>\n",
       "      <td>0.741507</td>\n",
       "      <td>0.601508</td>\n",
       "      <td>0.450603</td>\n",
       "      <td>10.346758</td>\n",
       "    </tr>\n",
       "    <tr>\n",
       "      <th>m1m2m3</th>\n",
       "      <td>7837.303383</td>\n",
       "      <td>4473.248857</td>\n",
       "      <td>29612.915502</td>\n",
       "      <td>0.482959</td>\n",
       "      <td>0.791815</td>\n",
       "      <td>0.563788</td>\n",
       "      <td>0.359363</td>\n",
       "      <td>10.330351</td>\n",
       "    </tr>\n",
       "    <tr>\n",
       "      <th>m2</th>\n",
       "      <td>7839.970651</td>\n",
       "      <td>2583.991528</td>\n",
       "      <td>19038.318608</td>\n",
       "      <td>0.611809</td>\n",
       "      <td>0.731612</td>\n",
       "      <td>0.624104</td>\n",
       "      <td>0.466912</td>\n",
       "      <td>10.337368</td>\n",
       "    </tr>\n",
       "    <tr>\n",
       "      <th>m3</th>\n",
       "      <td>7837.303383</td>\n",
       "      <td>5277.881742</td>\n",
       "      <td>34954.271255</td>\n",
       "      <td>0.409727</td>\n",
       "      <td>0.810892</td>\n",
       "      <td>0.523971</td>\n",
       "      <td>0.327118</td>\n",
       "      <td>10.353533</td>\n",
       "    </tr>\n",
       "  </tbody>\n",
       "</table>\n",
       "</div>"
      ],
      "text/plain": [
       "              query            n             m  inter_neg  intra_pos  \\\n",
       "method                                                                 \n",
       "m1      7861.642558  1860.446244  16809.423066   0.532417   0.651686   \n",
       "m1m2    7837.189175  2828.666791  20901.850352   0.571484   0.741507   \n",
       "m1m2m3  7837.303383  4473.248857  29612.915502   0.482959   0.791815   \n",
       "m2      7839.970651  2583.991528  19038.318608   0.611809   0.731612   \n",
       "m3      7837.303383  5277.881742  34954.271255   0.409727   0.810892   \n",
       "\n",
       "              f1    avg_cc   diameter  \n",
       "method                                 \n",
       "m1      0.502711  0.395980  10.326724  \n",
       "m1m2    0.601508  0.450603  10.346758  \n",
       "m1m2m3  0.563788  0.359363  10.330351  \n",
       "m2      0.624104  0.466912  10.337368  \n",
       "m3      0.523971  0.327118  10.353533  "
      ]
     },
     "execution_count": 17,
     "metadata": {},
     "output_type": "execute_result"
    }
   ],
   "source": [
    "df.groupby('method').mean()"
   ]
  },
  {
   "cell_type": "code",
   "execution_count": 18,
   "metadata": {},
   "outputs": [
    {
     "data": {
      "text/html": [
       "<div>\n",
       "<style scoped>\n",
       "    .dataframe tbody tr th:only-of-type {\n",
       "        vertical-align: middle;\n",
       "    }\n",
       "\n",
       "    .dataframe tbody tr th {\n",
       "        vertical-align: top;\n",
       "    }\n",
       "\n",
       "    .dataframe thead th {\n",
       "        text-align: right;\n",
       "    }\n",
       "</style>\n",
       "<table border=\"1\" class=\"dataframe\">\n",
       "  <thead>\n",
       "    <tr style=\"text-align: right;\">\n",
       "      <th></th>\n",
       "      <th>id</th>\n",
       "      <th>query</th>\n",
       "      <th>n</th>\n",
       "      <th>m</th>\n",
       "      <th>inter_neg</th>\n",
       "      <th>intra_pos</th>\n",
       "      <th>f1</th>\n",
       "      <th>avg_cc</th>\n",
       "      <th>diameter</th>\n",
       "    </tr>\n",
       "    <tr>\n",
       "      <th>method</th>\n",
       "      <th></th>\n",
       "      <th></th>\n",
       "      <th></th>\n",
       "      <th></th>\n",
       "      <th></th>\n",
       "      <th></th>\n",
       "      <th></th>\n",
       "      <th></th>\n",
       "      <th></th>\n",
       "    </tr>\n",
       "  </thead>\n",
       "  <tbody>\n",
       "    <tr>\n",
       "      <th>m1</th>\n",
       "      <td>fff12522f6319562cd4b308cc2e464b0c90a84296b0026...</td>\n",
       "      <td>15668</td>\n",
       "      <td>6436</td>\n",
       "      <td>67196</td>\n",
       "      <td>1.0</td>\n",
       "      <td>0.833976</td>\n",
       "      <td>0.834885</td>\n",
       "      <td>1.0</td>\n",
       "      <td>15</td>\n",
       "    </tr>\n",
       "    <tr>\n",
       "      <th>m1m2</th>\n",
       "      <td>fffffb619c59346ddec6703fc8b6673958046b674caa3a...</td>\n",
       "      <td>15668</td>\n",
       "      <td>7121</td>\n",
       "      <td>51681</td>\n",
       "      <td>1.0</td>\n",
       "      <td>0.968946</td>\n",
       "      <td>0.982368</td>\n",
       "      <td>1.0</td>\n",
       "      <td>15</td>\n",
       "    </tr>\n",
       "    <tr>\n",
       "      <th>m1m2m3</th>\n",
       "      <td>fffa7b75f2d424d2f39678606e65c892b8d5a1ef24a8b3...</td>\n",
       "      <td>15669</td>\n",
       "      <td>13826</td>\n",
       "      <td>100673</td>\n",
       "      <td>1.0</td>\n",
       "      <td>0.984100</td>\n",
       "      <td>0.982368</td>\n",
       "      <td>1.0</td>\n",
       "      <td>15</td>\n",
       "    </tr>\n",
       "    <tr>\n",
       "      <th>m2</th>\n",
       "      <td>fffa90cf746aeaab81b0a6e2ebbd62b7af5b7038f574d1...</td>\n",
       "      <td>15668</td>\n",
       "      <td>6782</td>\n",
       "      <td>48665</td>\n",
       "      <td>1.0</td>\n",
       "      <td>0.968399</td>\n",
       "      <td>0.982368</td>\n",
       "      <td>1.0</td>\n",
       "      <td>15</td>\n",
       "    </tr>\n",
       "    <tr>\n",
       "      <th>m3</th>\n",
       "      <td>fff7a2eb11695cd82e0ca07b6bb832b1aea11ee8709415...</td>\n",
       "      <td>15669</td>\n",
       "      <td>14251</td>\n",
       "      <td>101630</td>\n",
       "      <td>1.0</td>\n",
       "      <td>0.992981</td>\n",
       "      <td>0.982368</td>\n",
       "      <td>1.0</td>\n",
       "      <td>15</td>\n",
       "    </tr>\n",
       "  </tbody>\n",
       "</table>\n",
       "</div>"
      ],
      "text/plain": [
       "                                                       id  query      n  \\\n",
       "method                                                                    \n",
       "m1      fff12522f6319562cd4b308cc2e464b0c90a84296b0026...  15668   6436   \n",
       "m1m2    fffffb619c59346ddec6703fc8b6673958046b674caa3a...  15668   7121   \n",
       "m1m2m3  fffa7b75f2d424d2f39678606e65c892b8d5a1ef24a8b3...  15669  13826   \n",
       "m2      fffa90cf746aeaab81b0a6e2ebbd62b7af5b7038f574d1...  15668   6782   \n",
       "m3      fff7a2eb11695cd82e0ca07b6bb832b1aea11ee8709415...  15669  14251   \n",
       "\n",
       "             m  inter_neg  intra_pos        f1  avg_cc  diameter  \n",
       "method                                                            \n",
       "m1       67196        1.0   0.833976  0.834885     1.0        15  \n",
       "m1m2     51681        1.0   0.968946  0.982368     1.0        15  \n",
       "m1m2m3  100673        1.0   0.984100  0.982368     1.0        15  \n",
       "m2       48665        1.0   0.968399  0.982368     1.0        15  \n",
       "m3      101630        1.0   0.992981  0.982368     1.0        15  "
      ]
     },
     "execution_count": 18,
     "metadata": {},
     "output_type": "execute_result"
    }
   ],
   "source": [
    "df.groupby('method').max()"
   ]
  },
  {
   "cell_type": "code",
   "execution_count": 10,
   "metadata": {},
   "outputs": [
    {
     "data": {
      "text/plain": [
       "<matplotlib.legend.Legend at 0x7fe88c50eb38>"
      ]
     },
     "execution_count": 10,
     "metadata": {},
     "output_type": "execute_result"
    },
    {
     "data": {
      "image/png": "[encoded data removed]",
      "text/plain": [
       "<matplotlib.figure.Figure at 0x7fe88c50ebe0>"
      ]
     },
     "metadata": {},
     "output_type": "display_data"
    }
   ],
   "source": [
    "p = sns.scatterplot(\n",
    "    x='f1', y='avg_cc', hue='method', data=df,\n",
    ")\n",
    "\n",
    "p.axes.legend(loc='upper left')"
   ]
  }
 ],
 "metadata": {
  "kernelspec": {
   "display_name": "Python 3",
   "language": "python",
   "name": "python3"
  },
  "language_info": {
   "codemirror_mode": {
    "name": "ipython",
    "version": 3
   },
   "file_extension": ".py",
   "mimetype": "text/x-python",
   "name": "python",
   "nbconvert_exporter": "python",
   "pygments_lexer": "ipython3",
   "version": "3.5.2"
  }
 },
 "nbformat": 4,
 "nbformat_minor": 2
}
