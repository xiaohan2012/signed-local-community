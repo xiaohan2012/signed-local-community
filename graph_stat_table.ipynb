{
 "cells": [
  {
   "cell_type": "code",
   "execution_count": 1,
   "metadata": {},
   "outputs": [],
   "source": [
    "import networkx as nx\n",
    "import pandas as pd\n"
   ]
  },
  {
   "cell_type": "code",
   "execution_count": 9,
   "metadata": {},
   "outputs": [],
   "source": [
    "graph_names = ['word', 'bitcoin', 'ref', 'slashdot', 'epinions', 'wikiconflict'] "
   ]
  },
  {
   "cell_type": "code",
   "execution_count": 14,
   "metadata": {},
   "outputs": [
    {
     "name": "stdout",
     "output_type": "stream",
     "text": [
      "word\n",
      "bitcoin\n",
      "ref\n",
      "slashdot\n",
      "epinions\n",
      "wikiconflict\n"
     ]
    }
   ],
   "source": [
    "rows = []\n",
    "for graph_name in graph_names:\n",
    "    print(graph_name)\n",
    "    g = nx.read_gpickle('graphs/{}.pkl'.format(graph_name))\n",
    "    n = g.number_of_nodes()\n",
    "    m = g.number_of_edges()\n",
    "    num_neg_edges = sum((g[u][v]['sign'] < 0) for u, v in g.edges())\n",
    "    neg_frac = num_neg_edges / m\n",
    "    lambda1 = g.graph['lambda1']\n",
    "    row = (graph_name, n, m, neg_frac, lambda1)\n",
    "    rows.append(row)"
   ]
  },
  {
   "cell_type": "code",
   "execution_count": 15,
   "metadata": {},
   "outputs": [],
   "source": [
    "df = pd.DataFrame(rows, columns=['name', 'n', 'm', 'neg_frac', 'lambda_1'])"
   ]
  },
  {
   "cell_type": "code",
   "execution_count": 20,
   "metadata": {},
   "outputs": [
    {
     "name": "stdout",
     "output_type": "stream",
     "text": [
      "\\begin{tabular}{lrrrr}\n",
      "\\toprule\n",
      "         name &       n &        m &  neg\\_frac &  lambda\\_1 \\\\\n",
      "\\midrule\n",
      "         word &    4962 &    47088 &  0.198883 &  0.029549 \\\\\n",
      "      bitcoin &    5875 &    21489 &  0.151659 &  0.039806 \\\\\n",
      "          ref &   10864 &   251396 &  0.050892 &  0.039195 \\\\\n",
      "     slashdot &   82140 &   500481 &  0.238866 &  0.017225 \\\\\n",
      "     epinions &  119130 &   704267 &  0.171035 &  0.011228 \\\\\n",
      " wikiconflict &  112998 &  2024682 &  0.628120 &  0.074858 \\\\\n",
      "\\bottomrule\n",
      "\\end{tabular}\n",
      "\n"
     ]
    }
   ],
   "source": [
    "print(df.to_latex(index=False))"
   ]
  }
 ],
 "metadata": {
  "kernelspec": {
   "display_name": "Python 3",
   "language": "python",
   "name": "python3"
  },
  "language_info": {
   "codemirror_mode": {
    "name": "ipython",
    "version": 3
   },
   "file_extension": ".py",
   "mimetype": "text/x-python",
   "name": "python",
   "nbconvert_exporter": "python",
   "pygments_lexer": "ipython3",
   "version": "3.5.2"
  }
 },
 "nbformat": 4,
 "nbformat_minor": 2
}
