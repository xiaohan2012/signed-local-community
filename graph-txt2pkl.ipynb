{
 "cells": [
  {
   "cell_type": "code",
   "execution_count": 127,
   "metadata": {},
   "outputs": [],
   "source": [
    "import networkx as nx\n",
    "import pandas as pd\n",
    "from tqdm import tqdm\n",
    "from helpers import get_lcc, get_v1"
   ]
  },
  {
   "cell_type": "code",
   "execution_count": 128,
   "metadata": {},
   "outputs": [],
   "source": [
    "graph = 'bitcoin'"
   ]
  },
  {
   "cell_type": "code",
   "execution_count": 129,
   "metadata": {},
   "outputs": [],
   "source": [
    "df = pd.read_csv('data/{}.txt'.format(graph), sep='\\t', comment='#', header=None, names=['u', 'v', 'sign'])"
   ]
  },
  {
   "cell_type": "code",
   "execution_count": 136,
   "metadata": {},
   "outputs": [
    {
     "name": "stderr",
     "output_type": "stream",
     "text": [
      "21492it [00:02, 7336.58it/s]\n"
     ]
    }
   ],
   "source": [
    "g = nx.Graph()\n",
    "dg = nx.DiGraph()\n",
    "for i, r in tqdm(df.iterrows()):\n",
    "    u, v, sign = r['u'], r['v'], r['sign']\n",
    "    dg.add_edge(u, v, sign=sign)    \n",
    "    if not g.has_edge(u, v):\n",
    "        g.add_edge(u, v, sign=sign)\n",
    "    else:\n",
    "        print('edge ({}, {}) exists'.format(u, v))"
   ]
  },
  {
   "cell_type": "code",
   "execution_count": 141,
   "metadata": {},
   "outputs": [],
   "source": [
    "lcc = get_lcc(g)\n",
    "mapping = {n: i for i, n in enumerate(lcc.nodes())}\n",
    "\n",
    "g = nx.relabel_nodes(lcc, mapping=mapping)\n",
    "dg = nx.relabel_nodes(dg.subgraph(g.nodes()), mapping=mapping)"
   ]
  },
  {
   "cell_type": "code",
   "execution_count": 132,
   "metadata": {},
   "outputs": [],
   "source": [
    "l1, v1 = get_v1(g)\n",
    "g.graph['lambda1'] = l1\n",
    "g.graph['v1'] = v1"
   ]
  },
  {
   "cell_type": "code",
   "execution_count": 133,
   "metadata": {},
   "outputs": [],
   "source": [
    "nx.write_gpickle(g, 'graphs/{}.pkl'.format(graph))"
   ]
  },
  {
   "cell_type": "code",
   "execution_count": 142,
   "metadata": {},
   "outputs": [],
   "source": [
    "nx.write_gpickle(dg, 'graphs/{}_directed.pkl'.format(graph))"
   ]
  }
 ],
 "metadata": {
  "kernelspec": {
   "display_name": "Python 3",
   "language": "python",
   "name": "python3"
  },
  "language_info": {
   "codemirror_mode": {
    "name": "ipython",
    "version": 3
   },
   "file_extension": ".py",
   "mimetype": "text/x-python",
   "name": "python",
   "nbconvert_exporter": "python",
   "pygments_lexer": "ipython3",
   "version": "3.5.2"
  }
 },
 "nbformat": 4,
 "nbformat_minor": 2
}
