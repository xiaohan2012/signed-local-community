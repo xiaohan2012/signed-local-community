{
 "cells": [
  {
   "cell_type": "code",
   "execution_count": 26,
   "metadata": {},
   "outputs": [],
   "source": [
    "import networkx as nx\n",
    "import pandas as pd\n",
    "from tqdm import tqdm\n",
    "from helpers import get_lcc"
   ]
  },
  {
   "cell_type": "code",
   "execution_count": 42,
   "metadata": {},
   "outputs": [],
   "source": [
    "graph = 'wikiconflict'"
   ]
  },
  {
   "cell_type": "code",
   "execution_count": 43,
   "metadata": {},
   "outputs": [],
   "source": [
    "df = pd.read_csv('data/{}.txt'.format(graph), sep='\\t', comment='#', header=None, names=['u', 'v', 'sign'])"
   ]
  },
  {
   "cell_type": "code",
   "execution_count": 44,
   "metadata": {},
   "outputs": [
    {
     "name": "stderr",
     "output_type": "stream",
     "text": [
      "2026646it [03:17, 10273.69it/s]\n"
     ]
    }
   ],
   "source": [
    "g = nx.Graph()\n",
    "for i, r in tqdm(df.iterrows()):\n",
    "    u, v, sign = r['u'], r['v'], r['sign']\n",
    "    if not g.has_edge(u, v):\n",
    "        g.add_edge(u, v, sign=sign)\n",
    "    else:\n",
    "        print('edge ({}, {}) exists'.format(u, v))"
   ]
  },
  {
   "cell_type": "code",
   "execution_count": 40,
   "metadata": {},
   "outputs": [],
   "source": [
    "g = nx.convert_node_labels_to_integers(get_lcc(g))"
   ]
  },
  {
   "cell_type": "code",
   "execution_count": 41,
   "metadata": {},
   "outputs": [],
   "source": [
    "nx.write_gpickle(g, 'graphs/{}.pkl'.format(graph))"
   ]
  }
 ],
 "metadata": {
  "kernelspec": {
   "display_name": "Python 3",
   "language": "python",
   "name": "python3"
  },
  "language_info": {
   "codemirror_mode": {
    "name": "ipython",
    "version": 3
   },
   "file_extension": ".py",
   "mimetype": "text/x-python",
   "name": "python",
   "nbconvert_exporter": "python",
   "pygments_lexer": "ipython3",
   "version": "3.5.2"
  }
 },
 "nbformat": 4,
 "nbformat_minor": 2
}
