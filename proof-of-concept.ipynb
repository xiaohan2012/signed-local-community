{
 "cells": [
  {
   "cell_type": "code",
   "execution_count": 1,
   "metadata": {},
   "outputs": [],
   "source": [
    "%matplotlib inline"
   ]
  },
  {
   "cell_type": "code",
   "execution_count": 2,
   "metadata": {},
   "outputs": [],
   "source": [
    "import networkx as nx\n",
    "import numpy as np\n",
    "import scipy\n",
    "import pandas as pd\n",
    "from scipy.sparse.linalg import eigs\n",
    "from sklearn.metrics import precision_recall_fscore_support\n",
    "\n",
    "from graph_generator.community_graph import make_random_signed_graph, connect_communities\n",
    "from helpers import (\n",
    "    signed_layout,\n",
    "    draw_nodes,\n",
    "    draw_edges,\n",
    "    degree_diag,\n",
    "    prepare_seed_vector,\n",
    "    is_rank_one,\n",
    "    sbr_by_threshold,\n",
    "    flatten,\n",
    "    get_theoretical_kappa, \n",
    "    get_borderless_fig\n",
    ")\n",
    "from eval_helpers import evaluate_level_1, evaluate_level_2\n",
    "from data_helpers import make_polarized_graphs_fewer_parameters, make_polarized_graphs\n",
    "from core import query_graph_using_dense_matrix, sweep_on_x\n",
    "from exp_helpers import run_pipeline"
   ]
  },
  {
   "cell_type": "code",
   "execution_count": 3,
   "metadata": {},
   "outputs": [
    {
     "ename": "NameError",
     "evalue": "name 'random' is not defined",
     "output_type": "error",
     "traceback": [
      "\u001b[0;31m---------------------------------------------------------------------------\u001b[0m",
      "\u001b[0;31mNameError\u001b[0m                                 Traceback (most recent call last)",
      "\u001b[0;32m<ipython-input-3-9b496bfb4d74>\u001b[0m in \u001b[0;36m<module>\u001b[0;34m()\u001b[0m\n\u001b[0;32m----> 1\u001b[0;31m \u001b[0mrandom\u001b[0m\u001b[0;34m.\u001b[0m\u001b[0mseed\u001b[0m\u001b[0;34m(\u001b[0m\u001b[0;36m12345\u001b[0m\u001b[0;34m)\u001b[0m\u001b[0;34m\u001b[0m\u001b[0m\n\u001b[0m\u001b[1;32m      2\u001b[0m \u001b[0mnp\u001b[0m\u001b[0;34m.\u001b[0m\u001b[0mrandom\u001b[0m\u001b[0;34m.\u001b[0m\u001b[0mseed\u001b[0m\u001b[0;34m(\u001b[0m\u001b[0;36m12345\u001b[0m\u001b[0;34m)\u001b[0m\u001b[0;34m\u001b[0m\u001b[0m\n\u001b[1;32m      3\u001b[0m \u001b[0;34m\u001b[0m\u001b[0m\n\u001b[1;32m      4\u001b[0m \u001b[0msize\u001b[0m \u001b[0;34m=\u001b[0m \u001b[0;36m10\u001b[0m\u001b[0;34m\u001b[0m\u001b[0m\n\u001b[1;32m      5\u001b[0m \u001b[0mk\u001b[0m \u001b[0;34m=\u001b[0m \u001b[0;36m2\u001b[0m\u001b[0;34m\u001b[0m\u001b[0m\n",
      "\u001b[0;31mNameError\u001b[0m: name 'random' is not defined"
     ]
    }
   ],
   "source": [
    "random.seed(12345)\n",
    "np.random.seed(12345)\n",
    "\n",
    "size = 10\n",
    "k = 2 \n",
    "g, true_comms, true_groupings = make_polarized_graphs(k, [(size, size) for i in range(k)])\n",
    "A = nx.adj_matrix(g, weight='sign')"
   ]
  },
  {
   "cell_type": "code",
   "execution_count": null,
   "metadata": {
    "scrolled": true
   },
   "outputs": [],
   "source": [
    "fig, ax = get_borderless_fig()\n",
    "pos = signed_layout(g)\n",
    "# draw_nodes(g, pos)\n",
    "nx.draw_networkx_nodes(g, pos, node_size=100, ax=ax)\n",
    "draw_edges(g, pos, ax=ax)"
   ]
  },
  {
   "cell_type": "markdown",
   "metadata": {},
   "source": [
    "# demo on a toy graph\n",
    "\n",
    "- two polarized communities, each has 20 nodes, which are divided into 2 opposing raphs\n",
    "- random noise edges are added:\n",
    "  - inside each community\n",
    "  - between communities\n",
    "- in total, 40 nodes\n",
    "  - community 1: 0-19, where **0-9** are opposing **10-19**\n",
    "  - community 2: 20-39, where **20-29** are opposing **30-39**"
   ]
  },
  {
   "cell_type": "code",
   "execution_count": null,
   "metadata": {},
   "outputs": [],
   "source": [
    "from matplotlib import pyplot as plt\n",
    "\n",
    "kappa = 0.5\n",
    "\n",
    "seeds_list = [\n",
    "    [[4], [13]],\n",
    "    [[22], [38]]\n",
    "]\n",
    "\n",
    "for seeds in seeds_list:\n",
    "    x_opt, opt_val = query_graph_using_dense_matrix(g, seeds, kappa=kappa, verbose=1)\n",
    "\n",
    "    fig, ax = get_borderless_fig()\n",
    "    nx.draw_networkx_nodes(g, pos, node_size=100, node_color=x_opt, cmap=plt.cm.coolwarm, ax=ax)\n",
    "    draw_edges(g, pos, ax=ax)\n",
    "    ax.set_title('x_opt w.r.t seeds: {}'.format(', '.join(map(str, flatten(seeds)))))\n",
    "    for v in flatten(seeds):\n",
    "        ax.text(pos[v][0]+0.04, pos[v][1]+0.04, str(v), fontsize=18)\n",
    "    \n",
    "    c1, c2, C, beta = sweep_on_x(g, x_opt, verbose=0)\n",
    "    \n",
    "    colors = np.zeros(g.number_of_nodes())\n",
    "    colors[c1] = 1\n",
    "    colors[c2] = -1\n",
    "    fig, ax = get_borderless_fig()\n",
    "    nx.draw_networkx_nodes(g, pos, node_size=100, node_color=colors, cmap=plt.cm.bwr, ax=ax)\n",
    "    draw_edges(g, pos, ax=ax)\n",
    "    ax.set_title('after sweep rounding w.r.t seeds: {}'.format(', '.join(map(str, flatten(seeds)))))\n",
    "    "
   ]
  },
  {
   "cell_type": "markdown",
   "metadata": {},
   "source": [
    "# effect of $\\kappa$\n",
    "\n",
    "test graph: 4 pairs of polarized communities"
   ]
  },
  {
   "cell_type": "code",
   "execution_count": null,
   "metadata": {},
   "outputs": [],
   "source": [
    "import random\n",
    "\n",
    "random.seed(12345)\n",
    "np.random.seed(12345)\n",
    "\n",
    "size = 10\n",
    "k = 4\n",
    "g, true_comms, true_groupings = make_polarized_graphs(k, [(size, size) for i in range(k)])\n",
    "A = nx.adj_matrix(g, weight='sign')"
   ]
  },
  {
   "cell_type": "code",
   "execution_count": null,
   "metadata": {
    "scrolled": false
   },
   "outputs": [],
   "source": [
    "# using two seed nodes\n",
    "n_reps = 1\n",
    "target_comm = np.random.choice(len(true_comms))        \n",
    "v1 = np.random.choice(true_groupings[target_comm][0])\n",
    "v2 = np.random.choice(true_groupings[target_comm][1])\n",
    "\n",
    "# bad example: \n",
    "# target_comm, v1, v2 = 2, 43, 56\n",
    "# good example:\n",
    "target_comm, v1, v2 = 3, 68, 77\n",
    "seeds = [[v1], [v2]]\n",
    "\n",
    "\n",
    "perf = []\n",
    "for kappa in np.linspace(0, 1.0, 11):\n",
    "    for i in range(n_reps):            \n",
    "        res = run_pipeline(g, seeds, kappa, target_comm, true_comms, true_groupings)\n",
    "        res['kappa'] = kappa\n",
    "        perf.append(res)\n",
    "    \n"
   ]
  },
  {
   "cell_type": "code",
   "execution_count": null,
   "metadata": {},
   "outputs": [],
   "source": [
    "df = pd.DataFrame.from_records(perf)\n",
    "\n",
    "agg_df = df[['kappa', 'f1_L1', 'f1_L2', 'min_beta']].groupby('kappa').mean()\n",
    "agg_df.reset_index(level=0, inplace=True)\n",
    "\n",
    "fig, ax = plt.subplots(1, 1)\n",
    "\n",
    "seeds_str = ', '.join(map(str, flatten(seeds)))\n",
    "agg_df.plot(\n",
    "    x='kappa',\n",
    "    y=['f1_L1', 'f1_L2', 'min_beta'],\n",
    "    ylim=[0, 1.05],\n",
    "    style='-o',\n",
    "    title='seeds: {}'.format(seeds_str),\n",
    "    ax=ax\n",
    ")\n",
    "\n",
    "theoretical_kappa = get_theoretical_kappa(\n",
    "    true_comms[target_comm], \n",
    "    flatten(seeds),\n",
    "    A\n",
    ")\n",
    "\n",
    "ax.axvline(x=theoretical_kappa, color='orange')\n",
    "ax.text(\n",
    "    theoretical_kappa+0.05,\n",
    "    0.3,\n",
    "    '$\\kappa = \\sqrt{{1 / k}}={:.2f}$'.format(theoretical_kappa),\n",
    "    fontsize=14\n",
    ")\n",
    "\n",
    "fig.savefig('figs/effect-of-kappa/seeds-{}.png'.format(seeds_str))"
   ]
  },
  {
   "cell_type": "markdown",
   "metadata": {},
   "source": [
    "# why the bad example (seed 43 and 56)"
   ]
  },
  {
   "cell_type": "code",
   "execution_count": null,
   "metadata": {},
   "outputs": [],
   "source": [
    "seeds = [[43], [56]]\n",
    "kappa = 0.3\n",
    "x_opt, _ = query_graph(g, seeds, kappa=kappa, verbose=0)\n",
    "ts = sorted(np.abs(x_opt))[2:]  # avoid very small threshold\n",
    "sbr_list = [sbr_by_threshold(g, x_opt, t) for t in ts]\n",
    "\n",
    "fig, ax = plt.subplots(1, 1)\n",
    "ax.plot(ts, sbr_list)\n",
    "\n",
    "best_t = ts[np.argmin(sbr_list)]\n",
    "ax.axvline(best_t, color='red')\n",
    "ax.set_xlabel('threshold')\n",
    "ax.set_ylabel('beta')\n",
    "fig.savefig('figs/dataset-issue-on-toy-graph/sweeping_plot.png')\n",
    "\n",
    "best_sbr = np.min(sbr_list)\n",
    "print('best_t', best_t)\n",
    "C = (np.abs(x_opt) >= best_t).nonzero()[0]\n",
    "print('sbr of the ground truth', sbr(A, *true_groupings[2]))\n",
    "\n",
    "S1, S2, S, opt_beta = sweep_on_x(g, x_opt)\n",
    "subg = g.subgraph(S)\n",
    "\n",
    "fig, ax = get_borderless_fig()\n",
    "subg = nx.convert_node_labels_to_integers(subg)\n",
    "new_pos = signed_layout(subg)\n",
    "nx.draw_networkx_nodes(subg, new_pos, node_size=100)\n",
    "# draw_nodes(subg, new_pos, ax=ax)\n",
    "draw_edges(subg, new_pos, ax=ax)\n",
    "fig.savefig('figs/dataset-issue-on-toy-graph/detected_subgraph.png')"
   ]
  }
 ],
 "metadata": {
  "kernelspec": {
   "display_name": "Python 3",
   "language": "python",
   "name": "python3"
  },
  "language_info": {
   "codemirror_mode": {
    "name": "ipython",
    "version": 3
   },
   "file_extension": ".py",
   "mimetype": "text/x-python",
   "name": "python",
   "nbconvert_exporter": "python",
   "pygments_lexer": "ipython3",
   "version": "3.5.2"
  }
 },
 "nbformat": 4,
 "nbformat_minor": 2
}
