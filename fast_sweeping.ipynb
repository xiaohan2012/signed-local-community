{
 "cells": [
  {
   "cell_type": "code",
   "execution_count": 26,
   "metadata": {},
   "outputs": [],
   "source": [
    "%matplotlib inline"
   ]
  },
  {
   "cell_type": "code",
   "execution_count": 27,
   "metadata": {},
   "outputs": [],
   "source": [
    "import random\n",
    "import numpy as np\n",
    "import networkx as nx\n",
    "import pandas as pd\n",
    "from scipy import sparse as sp\n",
    "from scipy.sparse.linalg import eigs\n",
    "\n",
    "from graph_generator.community_graph import make\n",
    "from helpers import (\n",
    "    draw_nodes, draw_edges, get_borderless_fig, signed_normalized_laplacian, flatten, pos_adj, neg_adj,\n",
    "    num_pos_edges, num_neg_edges, get_v1\n",
    ")\n",
    "from core import sweep_on_x, sweep_on_x_fast\n"
   ]
  },
  {
   "cell_type": "code",
   "execution_count": 28,
   "metadata": {},
   "outputs": [],
   "source": [
    "random.seed(12345)\n",
    "np.random.seed(12345)"
   ]
  },
  {
   "cell_type": "code",
   "execution_count": 29,
   "metadata": {},
   "outputs": [],
   "source": [
    "g, groundtruth = make(4, 2, 1, 0, 0.3, 1)\n",
    "g.add_edge(8, 0, sign=1)\n",
    "g.add_edge(9, 0, sign=-1)\n",
    "g.add_edge(10, 4, sign=-1)\n",
    "g.add_edge(11, 5, sign=1)"
   ]
  },
  {
   "cell_type": "code",
   "execution_count": 30,
   "metadata": {},
   "outputs": [
    {
     "data": {
      "image/png": "[encoded data removed]",
      "text/plain": [
       "<matplotlib.figure.Figure at 0x7f10b9f968d0>"
      ]
     },
     "metadata": {},
     "output_type": "display_data"
    }
   ],
   "source": [
    "pos = {\n",
    "    0: [0, 0], 1: [0, 1], 2: [1, 0], 3: [1, 1],\n",
    "    4: [2, 0], 5: [2, 1], 6: [3, 0], 7: [3, 1],\n",
    "    8: [-0.5, 0], 9: [0.5, -2], 10: [2, -1], 11: [2, 2]\n",
    "}\n",
    "def show_graph():\n",
    "    fig, ax = get_borderless_fig()\n",
    "    draw_nodes(g, pos=pos, ax=ax)\n",
    "    draw_edges(g, pos=pos, ax=ax)\n",
    "\n",
    "show_graph()"
   ]
  },
  {
   "cell_type": "code",
   "execution_count": 41,
   "metadata": {},
   "outputs": [
    {
     "name": "stdout",
     "output_type": "stream",
     "text": [
      "[0.0, 0.02702702702702703, 0.05555555555555555, 0.08571428571428572, 0.11764705882352941, 0.22580645161290322, 0.35714285714285715, 0.5, 0.7, 0.8666666666666667, 1.0, 1.0]\n",
      "[0.0, 0.02702702702702703, 0.05555555555555555, 0.08571428571428572, 0.11764705882352941, 0.22580645161290322, 0.35714285714285715, 0.5, 0.7, 0.8666666666666667, 1.0, 1.0]\n"
     ]
    }
   ],
   "source": [
    "print(exp_sbr_list)\n",
    "print(list(act_sbr_list[::-1]))\n"
   ]
  },
  {
   "cell_type": "code",
   "execution_count": 44,
   "metadata": {},
   "outputs": [
    {
     "name": "stdout",
     "output_type": "stream",
     "text": [
      "[0.0, 0.0, 0.05555555555555555, 0.08571428571428572, 0.11764705882352941, 0.22580645161290322, 0.35714285714285715, 0.5, 0.7, 0.7333333333333333, 0.8, 1.0]\n",
      "[0.0, 0.02702702702702703, 0.05555555555555555, 0.08571428571428572, 0.11764705882352941, 0.22580645161290322, 0.35714285714285715, 0.5, 0.7, 0.7333333333333333, 0.8, 1.0]\n"
     ]
    }
   ],
   "source": [
    "print([0.0, 0.0, 0.05555555555555555, 0.08571428571428572, 0.11764705882352941, 0.22580645161290322, 0.35714285714285715, 0.5, 0.7, 0.7333333333333333, 0.8, 1.0])\n",
    "print([0.0, 0.02702702702702703, 0.05555555555555555, 0.08571428571428572, 0.11764705882352941, 0.22580645161290322, 0.35714285714285715, 0.5, 0.7, 0.7333333333333333, 0.8, 1.0])"
   ]
  },
  {
   "cell_type": "code",
   "execution_count": 56,
   "metadata": {
    "scrolled": false
   },
   "outputs": [
    {
     "name": "stderr",
     "output_type": "stream",
     "text": [
      "100%|██████████| 12/12 [00:00<00:00, 144.38it/s]"
     ]
    },
    {
     "name": "stdout",
     "output_type": "stream",
     "text": [
      "best_t: 0.16222142113076207\n",
      "comm1: [ 0  1  2  3  8 10]\n",
      "comm2: [ 4  5  6  7  9 11]\n",
      "\n",
      "pos_order [ 5  4  7  6  9 11 10  8  3  2  1  0]\n",
      "neg_order [ 0  2  1  3  8 10 11  9  7  6  5  4]\n",
      "abs_order [ 0  2  5  4  1  7  3  6  9  8 10 11]\n",
      "pos_vol_by_abs [ 4.  7. 11. 14. 17. 20. 23. 26. 26. 27. 27. 28.]\n",
      "neg_vol_by_abs [ 1.  3.  4.  6.  7.  8.  8.  8.  9.  9. 10. 10.]\n",
      "vol_by_abs [ 5. 10. 15. 20. 24. 28. 31. 34. 35. 36. 37. 38.]\n",
      "pos_cut_by_abs [ 4.  5.  9. 10.  9.  8.  5.  2.  2.  1.  1.  0.]\n",
      "neg_cut_by_abs [1. 3. 4. 4. 3. 2. 2. 2. 1. 1. 0. 0.]\n",
      "neg_inside_1 [ 0.  0.  0.  0.  0.  0.  2.  2.  2.  6.  8. 10.]\n",
      "neg_inside_2 [ 0.  0.  0.  0.  0.  0.  0.  2.  4.  4.  6. 10.]\n",
      "pos_inside_1 [ 0.  2.  6. 12. 12. 14. 14. 14. 14. 16. 20. 28.]\n",
      "pos_inside_2 [ 0.  2.  6. 12. 14. 14. 14. 14. 14. 16. 22. 28.]\n",
      "pos_cut_1 [4. 5. 4. 1. 1. 0. 0. 1. 4. 5. 4. 0.]\n",
      "pos_cut_2 [4. 5. 4. 1. 0. 0. 1. 1. 4. 5. 3. 0.]\n",
      "pos_between_1_2 [0. 0. 0. 0. 0. 0. 0. 0. 0. 0. 0. 0.]\n",
      "neg_inside_1_2 [0. 0. 0. 0. 0. 0. 0. 0. 0. 0. 0. 0.]\n",
      "x [-0.36273813 -0.32444284 -0.36273813 -0.28097574  0.36273813  0.36273813\n",
      "  0.28097574  0.32444284 -0.16222142  0.16222142 -0.16222142  0.16222142]\n",
      "[0.0, 0.02702702702702703, 0.05555555555555555, 0.08571428571428572, 0.11764705882352941, 0.22580645161290322, 0.35714285714285715, 0.5, 0.7, 0.8666666666666667, 0.8, 1.0]\n",
      "[0.0, 0.02702702702702703, 0.05555555555555555, 0.08571428571428572, 0.11764705882352941, 0.22580645161290322, 0.35714285714285715, 0.5, 0.7, 0.8666666666666667, 0.8, 1.0]\n"
     ]
    },
    {
     "name": "stderr",
     "output_type": "stream",
     "text": [
      "\n"
     ]
    }
   ],
   "source": [
    "x = get_v1(g)\n",
    "exp_c1, exp_c2, exp_C, exp_best_t, exp_best_sbr, exp_ts, exp_sbr_list = sweep_on_x(g, x, verbose=1)\n",
    "print()\n",
    "act_c1, act_c2, act_C, act_best_t, act_best_sbr, act_ts, act_sbr_list = sweep_on_x_fast(g, x, verbose=1)\n",
    "\n",
    "exp_c1, exp_c2, exp_C = set(exp_c1), set(exp_c2), set(exp_C)\n",
    "act_c1, act_c2, act_C = set(act_c1), set(act_c2), set(act_C)\n",
    "\n",
    "print('x', x)\n",
    "print(exp_sbr_list)\n",
    "print(list(act_sbr_list[::-1]))\n",
    "\n",
    "assert exp_c1 == act_c2\n",
    "assert exp_c2 == act_c1\n",
    "assert exp_C == act_C\n",
    "assert exp_best_t == act_best_t\n",
    "assert exp_best_sbr == act_best_sbr\n",
    "assert (exp_ts == act_ts[::-1]).all()\n",
    "assert (exp_sbr_list == act_sbr_list[::-1]).all()\n",
    "\n"
   ]
  },
  {
   "cell_type": "markdown",
   "metadata": {},
   "source": [
    "# more test cases"
   ]
  },
  {
   "cell_type": "code",
   "execution_count": 57,
   "metadata": {},
   "outputs": [],
   "source": [
    "g1 = nx.Graph()\n",
    "nodes = range(5)\n",
    "g1.add_nodes_from(nodes)\n",
    "edges = [(0, 1, 1), (1, 2, 1), (0, 2, -1), (0, 3, 1), (2, 3, -1), (3, 4, 1)]\n",
    "for u, v, s in edges:\n",
    "    g1.add_edge(u, v, sign=s)\n"
   ]
  },
  {
   "cell_type": "code",
   "execution_count": 58,
   "metadata": {},
   "outputs": [],
   "source": [
    "x1 = get_v1(g1)\n",
    "exp_c1, exp_c2, exp_C, exp_best_t, exp_best_sbr, exp_ts, exp_sbr_list = sweep_on_x(g1, x1)\n",
    "act_c1, act_c2, act_C, act_best_t, act_best_sbr, act_ts, act_sbr_list = sweep_on_x_fast(g1, x1)\n",
    "\n",
    "exp_c1, exp_c2, exp_C = set(exp_c1), set(exp_c2), set(exp_C)\n",
    "act_c1, act_c2, act_C = set(act_c1), set(act_c2), set(act_C)\n",
    "\n",
    "assert exp_c1 == act_c2\n",
    "assert exp_c2 == act_c1\n",
    "assert exp_C == act_C\n",
    "assert exp_best_t == act_best_t\n",
    "assert exp_best_sbr == act_best_sbr\n",
    "assert (exp_ts == act_ts[::-1]).all()\n",
    "assert (exp_sbr_list == act_sbr_list[::-1]).all()"
   ]
  },
  {
   "cell_type": "markdown",
   "metadata": {},
   "source": [
    "# speed benchmark"
   ]
  },
  {
   "cell_type": "code",
   "execution_count": 67,
   "metadata": {},
   "outputs": [],
   "source": [
    "from tqdm import tqdm"
   ]
  },
  {
   "cell_type": "code",
   "execution_count": 73,
   "metadata": {},
   "outputs": [],
   "source": [
    "from data_helpers import make_polarized_graphs_fewer_parameters\n",
    "g_list = [make_polarized_graphs_fewer_parameters(20, 0, 10, 0.05)[0] for i in tqdm(range(10))]\n",
    "x_list = [get_v1(g) for g in g_list]"
   ]
  },
  {
   "cell_type": "code",
   "execution_count": 74,
   "metadata": {},
   "outputs": [
    {
     "data": {
      "text/plain": [
       "400"
      ]
     },
     "execution_count": 74,
     "metadata": {},
     "output_type": "execute_result"
    }
   ],
   "source": [
    "g_list[0].number_of_nodes()"
   ]
  },
  {
   "cell_type": "code",
   "execution_count": 81,
   "metadata": {},
   "outputs": [
    {
     "name": "stdout",
     "output_type": "stream",
     "text": [
      "300 ms ± 0 ns per loop (mean ± std. dev. of 1 run, 1 loop each)\n"
     ]
    }
   ],
   "source": [
    "%timeit -n1 -r1 [sweep_on_x_fast(g, x) for g, x in zip(g_list, x_list)]"
   ]
  },
  {
   "cell_type": "code",
   "execution_count": 76,
   "metadata": {},
   "outputs": [
    {
     "name": "stderr",
     "output_type": "stream",
     "text": [
      "10it [01:17,  7.71s/it]"
     ]
    },
    {
     "name": "stdout",
     "output_type": "stream",
     "text": [
      "1min 17s ± 0 ns per loop (mean ± std. dev. of 1 run, 1 loop each)\n"
     ]
    },
    {
     "name": "stderr",
     "output_type": "stream",
     "text": [
      "\n"
     ]
    }
   ],
   "source": [
    "%timeit -n1 -r1 [sweep_on_x(g, x) for g, x in tqdm(zip(g_list, x_list))]"
   ]
  },
  {
   "cell_type": "code",
   "execution_count": 82,
   "metadata": {},
   "outputs": [
    {
     "name": "stdout",
     "output_type": "stream",
     "text": [
      "speed up raito: 256.6666666666667\n"
     ]
    }
   ],
   "source": [
    "print('speed up raito:', 77 * 1000 / 300)"
   ]
  }
 ],
 "metadata": {
  "kernelspec": {
   "display_name": "Python 3",
   "language": "python",
   "name": "python3"
  },
  "language_info": {
   "codemirror_mode": {
    "name": "ipython",
    "version": 3
   },
   "file_extension": ".py",
   "mimetype": "text/x-python",
   "name": "python",
   "nbconvert_exporter": "python",
   "pygments_lexer": "ipython3",
   "version": "3.5.2"
  }
 },
 "nbformat": 4,
 "nbformat_minor": 2
}
