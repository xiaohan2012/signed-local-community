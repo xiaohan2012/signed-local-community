{
 "cells": [
  {
   "cell_type": "code",
   "execution_count": 1,
   "metadata": {},
   "outputs": [],
   "source": [
    "%matplotlib inline"
   ]
  },
  {
   "cell_type": "code",
   "execution_count": 2,
   "metadata": {},
   "outputs": [],
   "source": [
    "import os\n",
    "import numpy as np\n",
    "import scipy.io as sio\n",
    "import networkx as nx\n",
    "\n",
    "from matplotlib import pyplot as plt\n",
    "\n",
    "from helpers import signed_laplacian, signed_layout, get_borderless_fig, draw_edges, pos_spring_layout\n",
    "from core import query_graph_using_sparse_linear_solver, sweep_on_x"
   ]
  },
  {
   "cell_type": "code",
   "execution_count": 3,
   "metadata": {},
   "outputs": [],
   "source": [
    "# pre-process graph\n",
    "if not os.path.exists('data/word_graph.pkl'):\n",
    "    mat_contents = sio.loadmat('data/word_sim_weighted.mat')\n",
    "\n",
    "    A = mat_contents['Wemb']\n",
    "    names = mat_contents['names']\n",
    "    i2w = {i: names[i][0][0] for i in range(A.shape[0])}\n",
    "    w2i = {w: i for i, w in i2w.items()}\n",
    "\n",
    "    g = nx.from_scipy_sparse_matrix(A, edge_attribute='sign')\n",
    "\n",
    "    gc = max(nx.connected_component_subgraphs(g), key=len)\n",
    "    mapping = {n: i for i, n in enumerate(gc.nodes())}\n",
    "    w2i_new = {i2w[old]: new for old, new in mapping.items()}\n",
    "    i2w_new = {new: i2w[old] for old, new in mapping.items()}\n",
    "\n",
    "    gc = nx.relabel_nodes(gc, mapping=mapping)\n",
    "    w2i = w2i_new\n",
    "    i2w = i2w_new\n",
    "    del g\n",
    "    gc.graph['w2i'] = w2i\n",
    "    gc.graph['i2w'] = i2w\n",
    "    nx.write_gpickle(gc, 'data/word_graph.pkl')\n",
    "else:\n",
    "    # load pre-processed graph\n",
    "    g = nx.read_gpickle('data/word_graph.pkl')\n",
    "    w2i = g.graph['w2i']\n",
    "    i2w = g.graph['i2w']    "
   ]
  },
  {
   "cell_type": "code",
   "execution_count": 22,
   "metadata": {},
   "outputs": [
    {
     "name": "stdout",
     "output_type": "stream",
     "text": [
      "graph dimension: 4962 47088\n"
     ]
    }
   ],
   "source": [
    "print('graph dimension:', g.number_of_nodes(), g.number_of_edges())"
   ]
  },
  {
   "cell_type": "code",
   "execution_count": 4,
   "metadata": {},
   "outputs": [
    {
     "name": "stdout",
     "output_type": "stream",
     "text": [
      "light content meet fit fitting cheerful successful jolly good nice proper glad accidental right promising upbeat ready well willing incidental sparkling smiling\n",
      "poor melancholic down blue serious dark ashamed downcast boiling disagreeable upset unhappy heavy sad unfortunate\n"
     ]
    }
   ],
   "source": [
    "def pos_nbrs(g, word):\n",
    "    s = w2i[word]\n",
    "    return [i2w[n] for n in g.neighbors(s) if g[s][n]['sign'] > 0]\n",
    "\n",
    "def neg_nbrs(g, word):\n",
    "    s = w2i[word]\n",
    "    return [i2w[n] for n in g.neighbors(s) if g[s][n]['sign'] < 0]\n",
    "\n",
    "print(' '.join(pos_nbrs(g, 'happy')))\n",
    "print(' '.join(neg_nbrs(g, 'happy')))"
   ]
  },
  {
   "cell_type": "code",
   "execution_count": 5,
   "metadata": {},
   "outputs": [],
   "source": [
    "def demo(word1, word2=None, kappa=0.5):\n",
    "    seeds = [[w2i[word1]]]\n",
    "    if word2 is not None:\n",
    "        seeds.append([w2i[word2]])\n",
    "\n",
    "    x_opt, opt_val = query_graph_using_sparse_linear_solver(g, seeds, kappa=kappa, solver='cg', verbose=1)\n",
    "    c1, c2, C, best_t, best_sbr, ts, sbr_list = sweep_on_x(g, x_opt, top_k=200, verbose=1)\n",
    "\n",
    "    fig, ax = plt.subplots(1, 1)\n",
    "    ax.plot(ts, sbr_list, '.-')\n",
    "    ax.axvline(best_t, color='red')         \n",
    "    ax.set_title('sweeping profile')\n",
    "    \n",
    "    c1_words = [i2w[n] for n in c1]\n",
    "    c2_words = [i2w[n] for n in c2]\n",
    "    print('community 1 has {} nodes\\nthey are:'.format(len(c1)))\n",
    "    print(' '.join(c1_words))\n",
    "    print()\n",
    "    print('community 1 has {} nodes\\nthey are:'.format(len(c2)))\n",
    "    print(' '.join(c2_words))\n",
    "\n",
    "    try:\n",
    "        subg = g.subgraph(C)\n",
    "\n",
    "        subg = nx.convert_node_labels_to_integers(subg)\n",
    "        \n",
    "        pos = pos_spring_layout(subg)\n",
    "\n",
    "        fig, ax = get_borderless_fig()\n",
    "        # draw_nodes(subg, pos, ax=ax)\n",
    "        nx.draw_networkx_nodes(subg, pos, node_size=2, linewidths=0, node_color='black')\n",
    "        draw_edges(subg, pos, ax=ax, width=0.5, alpha=0.5)        \n",
    "    except:\n",
    "        print('unable to plot')\n",
    "        pass\n",
    "    return c1_words, c2_words, dict(x_opt=x_opt)"
   ]
  },
  {
   "cell_type": "code",
   "execution_count": 6,
   "metadata": {},
   "outputs": [
    {
     "name": "stdout",
     "output_type": "stream",
     "text": [
      "matrices loading done\n",
      "found lambda_1= (0.029549341418421048+0j)\n",
      "at iteration 5 (alpha=-2942.97137)\n",
      "residual: sqrt(kappa) - y' D s=-0.10534946054184291\n",
      "at iteration 10 (alpha=-91.93923)\n",
      "residual: sqrt(kappa) - y' D s=-0.10529420457607708\n"
     ]
    },
    {
     "name": "stderr",
     "output_type": "stream",
     "text": [
      "\r",
      "  0%|          | 0/200 [00:00<?, ?it/s]"
     ]
    },
    {
     "name": "stdout",
     "output_type": "stream",
     "text": [
      "at iteration 15 (alpha=-2.84447)\n",
      "residual: sqrt(kappa) - y' D s=-0.06817794070965821\n",
      "at iteration 20 (alpha=-1.49728)\n",
      "residual: sqrt(kappa) - y' D s=-0.007096195800478933\n",
      "terminates after 22 iterations:\n",
      "  - alpha=-1.42992\n",
      "  - residual=-0.00051\n",
      "sweep on top 200\n"
     ]
    },
    {
     "name": "stderr",
     "output_type": "stream",
     "text": [
      "100%|██████████| 200/200 [00:33<00:00,  6.21it/s]\n"
     ]
    },
    {
     "name": "stdout",
     "output_type": "stream",
     "text": [
      "best_t: 0.00369015673555299\n",
      "comm1: [ 351  360  423  424  881 1132 1133 1794 1864 2007 2314 2670 3007 3773\n",
      " 4001 4072 4282 4501 4605 4702 4797]\n",
      "comm2: [  18   30  166  346  705 1517 1597 1774 2067 3326 3385 3818 3823 3954\n",
      " 3974 4100 4183 4368 4569 4828 4902 4932 4942]\n",
      "community 1 has 21 nodes\n",
      "they are:\n",
      "blue boiling broiling brunette defeatist downbeat downcast hurting impromptu insurgent melancholic penitent repellent unfortunate worrying ashamed dreary navy sad unhappy disagreeable\n",
      "\n",
      "community 1 has 23 nodes\n",
      "they are:\n",
      "absorbent accidental antiseptic blonde content freezing glad hopeful jolly smiling sparkling upbeat uplifting well willing beautiful cheerful happy proud freely promising skillfully sweetened\n"
     ]
    },
    {
     "data": {
      "image/png": "[encoded data removed]",
      "text/plain": [
       "<matplotlib.figure.Figure at 0x7effcdfa65c0>"
      ]
     },
     "metadata": {},
     "output_type": "display_data"
    },
    {
     "data": {
      "image/png": "[encoded data removed]",
      "text/plain": [
       "<matplotlib.figure.Figure at 0x7effc96c1b38>"
      ]
     },
     "metadata": {},
     "output_type": "display_data"
    }
   ],
   "source": [
    "exp1_c1, exp1_c2, exp1 = demo('happy', 'unhappy', kappa=0.8)"
   ]
  },
  {
   "cell_type": "code",
   "execution_count": 7,
   "metadata": {},
   "outputs": [],
   "source": [
    "def set_comp(s1, s2):\n",
    "    s1, s2 = set(s1), set(s2)\n",
    "    print('s1 - s2:', ', '.join(s1 - s2))\n",
    "    print('s2 - s1:', ', '.join(s2 - s1))\n",
    "    print('s2 AND s1:', ', '.join(s1.intersection(s2)))\n",
    "    \n",
    "def rank_of_word(scores, word):\n",
    "    order = np.argsort(scores)\n",
    "    return (order == w2i[word]).nonzero()[0][0]\n"
   ]
  },
  {
   "cell_type": "code",
   "execution_count": 8,
   "metadata": {},
   "outputs": [
    {
     "name": "stdout",
     "output_type": "stream",
     "text": [
      "rank of \"happy\" 4961\n",
      "rank of \"unhappy\" 0\n",
      "max rank 4961\n"
     ]
    }
   ],
   "source": [
    "print('rank of \"happy\"', rank_of_word(exp1['x_opt'], 'happy'))\n",
    "print('rank of \"unhappy\"', rank_of_word(exp1['x_opt'], 'unhappy'))\n",
    "print('max rank', g.number_of_nodes() - 1)"
   ]
  },
  {
   "cell_type": "code",
   "execution_count": 9,
   "metadata": {},
   "outputs": [
    {
     "name": "stdout",
     "output_type": "stream",
     "text": [
      "set difference with positive nbrs:\n",
      "\n",
      "s1 - s2: happy, antiseptic, beautiful, freely, uplifting, blonde, proud, sweetened, freezing, absorbent, skillfully, hopeful\n",
      "s2 - s1: nice, ready, proper, right, successful, light, incidental, good, fitting, meet, fit\n",
      "s2 AND s1: jolly, glad, smiling, promising, upbeat, well, sparkling, accidental, cheerful, willing, content\n",
      "----------\n",
      "s1 - s2: penitent, impromptu, ashamed, insurgent, worrying, brunette, disagreeable, boiling, unhappy, broiling, defeatist, navy\n",
      "s2 - s1: forbidding, bad, tart, hurt, poor, wrong, dark, melancholy, rough, acid, low, sharp, harsh, caustic, down, sore, bitter\n",
      "s2 AND s1: unfortunate, sad, downcast, blue, melancholic, hurting, dreary, downbeat, repellent\n"
     ]
    }
   ],
   "source": [
    "print('set difference with positive nbrs:\\n')\n",
    "set_comp(exp1_c2, pos_nbrs(g, 'happy'))\n",
    "print('-' * 10)\n",
    "set_comp(exp1_c1, pos_nbrs(g, 'unhappy'))"
   ]
  },
  {
   "cell_type": "code",
   "execution_count": 10,
   "metadata": {},
   "outputs": [
    {
     "name": "stdout",
     "output_type": "stream",
     "text": [
      "matrices loading done\n",
      "found lambda_1= (0.029549341418421228+0j)\n",
      "at iteration 5 (alpha=-2942.97137)\n",
      "residual: sqrt(kappa) - y' D s=-0.2926698703552112\n",
      "at iteration 10 (alpha=-91.93923)\n",
      "residual: sqrt(kappa) - y' D s=-0.29261461438944536\n",
      "at iteration 15 (alpha=-2.84447)\n",
      "residual: sqrt(kappa) - y' D s=-0.2554983505230265\n",
      "at iteration 20 (alpha=-0.77877)\n",
      "residual: sqrt(kappa) - y' D s=0.00033365665640017195\n",
      "at iteration 25 (alpha=-0.78158)\n",
      "residual: sqrt(kappa) - y' D s=-0.028630185128968866\n"
     ]
    },
    {
     "name": "stderr",
     "output_type": "stream",
     "text": [
      "\r",
      "  0%|          | 0/200 [00:00<?, ?it/s]"
     ]
    },
    {
     "name": "stdout",
     "output_type": "stream",
     "text": [
      "at iteration 30 (alpha=-0.77886)\n",
      "residual: sqrt(kappa) - y' D s=-0.0011798897008955533\n",
      "terminates after 31 iterations:\n",
      "  - alpha=-0.77881\n",
      "  - residual=-0.00043\n",
      "sweep on top 200\n"
     ]
    },
    {
     "name": "stderr",
     "output_type": "stream",
     "text": [
      "100%|██████████| 200/200 [00:33<00:00,  6.02it/s]\n"
     ]
    },
    {
     "name": "stdout",
     "output_type": "stream",
     "text": [
      "best_t: 0.14092167488479465\n",
      "comm1: [2193]\n",
      "comm2: [1815]\n",
      "community 1 has 1 nodes\n",
      "they are:\n",
      "literate\n",
      "\n",
      "community 1 has 1 nodes\n",
      "they are:\n",
      "illiterate\n"
     ]
    },
    {
     "data": {
      "image/png": "[encoded data removed]",
      "text/plain": [
       "<matplotlib.figure.Figure at 0x7effc9d78eb8>"
      ]
     },
     "metadata": {},
     "output_type": "display_data"
    },
    {
     "data": {
      "image/png": "[encoded data removed]",
      "text/plain": [
       "<matplotlib.figure.Figure at 0x7effc9d78518>"
      ]
     },
     "metadata": {},
     "output_type": "display_data"
    }
   ],
   "source": [
    "_, _, exp2 = demo('happy', 'unhappy', kappa=0.5)"
   ]
  },
  {
   "cell_type": "code",
   "execution_count": 23,
   "metadata": {},
   "outputs": [
    {
     "name": "stdout",
     "output_type": "stream",
     "text": [
      "first and last word by x_opt:  literate illiterate\n",
      "indices of \"happy\" and \"unhappy\" by x_opt:  4960 2\n",
      "max index 4961\n"
     ]
    }
   ],
   "source": [
    "order = np.argsort(exp2['x_opt'])\n",
    "print('first and last word by x_opt: ', i2w[order[0]], i2w[order[-1]])\n",
    "exp2['x_opt']\n",
    "print('indices of \"happy\" and \"unhappy\" by x_opt: ',\n",
    "      (order == w2i['happy']).nonzero()[0][0],\n",
    "      (order == w2i['unhappy']).nonzero()[0][0]\n",
    ")\n",
    "print('max index {}'.format(g.number_of_nodes()-1))\n"
   ]
  },
  {
   "cell_type": "code",
   "execution_count": 12,
   "metadata": {},
   "outputs": [
    {
     "name": "stdout",
     "output_type": "stream",
     "text": [
      "matrices loading done\n",
      "found lambda_1= (0.029549341418420937+0j)\n",
      "at iteration 5 (alpha=-2942.97137)\n",
      "residual: sqrt(kappa) - y' D s=-0.29289313737209244\n",
      "at iteration 10 (alpha=-91.93923)\n",
      "residual: sqrt(kappa) - y' D s=-0.2928100202993166\n",
      "at iteration 15 (alpha=-2.84447)\n",
      "residual: sqrt(kappa) - y' D s=-0.24244410662472948\n",
      "at iteration 20 (alpha=-0.77877)\n",
      "residual: sqrt(kappa) - y' D s=0.09457207762470499\n",
      "at iteration 25 (alpha=-0.78719)\n",
      "residual: sqrt(kappa) - y' D s=-0.004967622785156833\n"
     ]
    },
    {
     "name": "stderr",
     "output_type": "stream",
     "text": [
      "  0%|          | 1/200 [00:00<00:33,  5.95it/s]"
     ]
    },
    {
     "name": "stdout",
     "output_type": "stream",
     "text": [
      "terminates after 28 iterations:\n",
      "  - alpha=-0.78614\n",
      "  - residual=-0.00087\n",
      "sweep on top 200\n"
     ]
    },
    {
     "name": "stderr",
     "output_type": "stream",
     "text": [
      "100%|██████████| 200/200 [00:32<00:00,  6.31it/s]\n"
     ]
    },
    {
     "name": "stdout",
     "output_type": "stream",
     "text": [
      "best_t: 0.002885074766726897\n",
      "comm1: [  59  267  290  293  351  355  360  423  424  653  830  879  881 1024\n",
      " 1130 1131 1132 1133 1136 1141 1185 1542 1655 1794 1858 1864 1999 2099\n",
      " 2193 2234 2289 2314 2315 2382 2456 2457 2458 2670 2754 2769 3098 3151\n",
      " 3516 3581 3719 3762 3773 4001 4072 4136 4282 4306 4361 4383 4501 4605\n",
      " 4657 4700 4702 4713 4779 4797 4827 4847 4855 4862 4888 4928 4952]\n",
      "comm2: [  11   18   30   94   95  166  208  346  427  478  705  768  837  838\n",
      "  840  842  858 1015 1197 1204 1416 1517 1597 1657 1774 1815 1818 1953\n",
      " 2067 2228 2609 2611 2634 2636 2744 2763 2818 2984 3089 3325 3326 3346\n",
      " 3367 3385 3519 3818 3821 3823 3954 3962 3974 4082 4153 4177 4181 4183\n",
      " 4368 4424 4487 4569 4743 4793 4808 4823 4828 4902 4918 4932 4938 4942]\n",
      "community 1 has 69 nodes\n",
      "they are:\n",
      "ad-lib baking bass bawdy blue blush boiling broiling brunette concomitant dark defeated defeatist discomfited down down-and-out downbeat downcast downhill drab dusk frown grimace hurting impossible impromptu insomniac knowing literate lumbering masculine melancholic melancholy moody night nightfall nighttime penitent poor pout rosiness scowl sundown tantrums tumbling undesirable unfortunate worrying ashamed bride dreary evening guilty honey navy sad straw uncle unhappy violet consumed disagreeable forgotten imposed judged lowered poisonous serious unlikely\n",
      "\n",
      "community 1 has 70 nodes\n",
      "they are:\n",
      "above absorbent accidental affluent afternoon antiseptic ascending blonde bubbly cavalier content cracking day daybreak daylight daytime decadent disarming eatable edible fitting freezing glad grin hopeful illiterate illumination inevitable jolly lowbrow paleness pallor pastel pasty plush possible probable rejoicing roaring smile smiling sociable soprano sparkling sunup upbeat uphill uplifting well whiteness willing aunt candidate champagne charcoal cheerful happy jet morning proud accentuate deftly entertaining feasible freely promising remembered skillfully successful sweetened\n"
     ]
    },
    {
     "data": {
      "image/png": "[encoded data removed]",
      "text/plain": [
       "<matplotlib.figure.Figure at 0x7effc9a570b8>"
      ]
     },
     "metadata": {},
     "output_type": "display_data"
    },
    {
     "data": {
      "image/png": "[encoded data removed]",
      "text/plain": [
       "<matplotlib.figure.Figure at 0x7f002368e240>"
      ]
     },
     "metadata": {},
     "output_type": "display_data"
    }
   ],
   "source": [
    "exp3_c1, exp3_c2, exp3 = demo('happy', kappa=0.5)"
   ]
  },
  {
   "cell_type": "code",
   "execution_count": 13,
   "metadata": {},
   "outputs": [
    {
     "name": "stdout",
     "output_type": "stream",
     "text": [
      "rank of \"happy\" 4961\n",
      "rank of \"unhappy\" 11\n"
     ]
    }
   ],
   "source": [
    "print('rank of \"happy\"', rank_of_word(exp3['x_opt'], 'happy'))\n",
    "print('rank of \"unhappy\"', rank_of_word(exp3['x_opt'], 'unhappy'))"
   ]
  },
  {
   "cell_type": "code",
   "execution_count": 14,
   "metadata": {},
   "outputs": [
    {
     "data": {
      "image/png": "[encoded data removed]",
      "text/plain": [
       "<matplotlib.figure.Figure at 0x7effc9a8e6a0>"
      ]
     },
     "metadata": {},
     "output_type": "display_data"
    }
   ],
   "source": [
    "C = list(sorted([w2i[w] for w in (exp3_c1 + exp3_c2)]))\n",
    "old2new = {n: i for i, n in enumerate(C)}\n",
    "new2old = {i: n for i, n in enumerate(C)}\n",
    "subg = nx.relabel_nodes(g.subgraph(C), mapping=old2new)\n",
    "# pos = signed_layout(subg, normalize=True)\n",
    "pos = pos_spring_layout(subg)\n",
    "\n",
    "fig, ax = get_borderless_fig()\n",
    "# draw_nodes(subg, pos, ax=ax)\n",
    "nx.draw_networkx_nodes(subg, pos, node_size=2, linewidths=0, node_color='black')\n",
    "draw_edges(subg, pos, ax=ax, width=0.5, alpha=0.5)"
   ]
  },
  {
   "cell_type": "code",
   "execution_count": 15,
   "metadata": {},
   "outputs": [
    {
     "name": "stdout",
     "output_type": "stream",
     "text": [
      "clustering result (k=10):\n",
      "----------\n",
      "antiseptic, forgotten, daybreak, entertaining, content, sociable, illumination, possible, affluent, inevitable, cheerful, glad, happy, freezing, above, lowbrow, cracking, willing, skillfully, day, freely, promising, plush, deftly, upbeat, rejoicing, charcoal, jet, uphill, jolly, pastel, smiling, afternoon, blonde, morning, bubbly, cavalier, sparkling, hopeful, candidate, probable, champagne, decadent, sunup, proud, uplifting, fitting, successful, ascending, daytime, daylight, feasible, well, pasty, roaring\n",
      "----------\n",
      "knowing, sad, masculine, melancholic, dark, drab, dreary, nighttime, tumbling, sundown, concomitant, down, night, insomniac, blue, serious, defeatist, honey, sweetened, navy, ashamed, baking, downcast, undesirable, judged, down-and-out, consumed, straw, accentuate, lowered, brunette, nightfall, lumbering, unfortunate, imposed, bawdy, remembered, dusk, unlikely, disarming, guilty, boiling, moody, downbeat, broiling, tantrums, literate, impossible, grin, disagreeable, worrying, poor, discomfited, penitent, absorbent, violet, smile, bride, aunt, hurting, defeated, downhill, evening, melancholy, unhappy\n",
      "----------\n",
      "pallor, paleness, whiteness\n",
      "----------\n",
      "impromptu, uncle, ad-lib\n",
      "----------\n",
      "bass\n",
      "----------\n",
      "poisonous\n",
      "----------\n",
      "soprano, rosiness, blush\n",
      "----------\n",
      "edible, eatable\n",
      "----------\n",
      "grimace, frown, pout, scowl\n",
      "----------\n",
      "illiterate, accidental\n"
     ]
    },
    {
     "name": "stderr",
     "output_type": "stream",
     "text": [
      "/home/cloud-user/code/signed/helpers.py:363: RuntimeWarning: divide by zero encountered in true_divide\n",
      "  D_neg_half = sp.diags(flatten(1 / np.sqrt(deg)))\n"
     ]
    }
   ],
   "source": [
    "from spectral import signed_spectral_clustering\n",
    "from collections import defaultdict\n",
    "\n",
    "labels = signed_spectral_clustering(subg, k=10, normalize=True)\n",
    "w2label = {i2w[new2old[i]]: l for i, l in enumerate(labels)}\n",
    "\n",
    "clustering = defaultdict(list)\n",
    "for w, l in w2label.items():\n",
    "    clustering[l].append(w)\n",
    "print('clustering result (k=10):')\n",
    "for words in clustering.values():\n",
    "    print('-' * 10)\n",
    "    print(', '.join(words))"
   ]
  },
  {
   "cell_type": "markdown",
   "metadata": {},
   "source": [
    "# observation\n",
    "\n",
    "\n",
    "- \"irrelevant\" communities (that are connected to the main one by negative edges) can be returned, which is less meaningful\n",
    "  - a reasonable post-processing step: remove nodes that are solely connected by negative edges (or do a BFS on the positive graph)\n",
    "- if $\\kappa$ is set too low (e.g, 0.5), seeds will not rank top and sweeping result might not include the seeds\n",
    "  - this implies that a good $\\kappa$ should ensure seeds are included in the sweeping result or they rank high in `x_opt`\n",
    "- however, if $\\kappa$ set high enough (0.8 for example), seeds are included\n"
   ]
  },
  {
   "cell_type": "markdown",
   "metadata": {},
   "source": [
    "# speed comparison (\"cg\" vs \"sp\")"
   ]
  },
  {
   "cell_type": "code",
   "execution_count": 16,
   "metadata": {},
   "outputs": [
    {
     "name": "stdout",
     "output_type": "stream",
     "text": [
      "matrices loading done\n",
      "found lambda_1= (0.02954934141842104+0j)\n",
      "at iteration 5 (alpha=-2942.97137)\n",
      "residual: sqrt(kappa) - y' D s=-0.10534946054184291\n",
      "at iteration 10 (alpha=-91.93923)\n",
      "residual: sqrt(kappa) - y' D s=-0.10529420457607708\n",
      "at iteration 15 (alpha=-2.84447)\n",
      "residual: sqrt(kappa) - y' D s=-0.06817794070965821\n",
      "at iteration 20 (alpha=-1.49728)\n",
      "residual: sqrt(kappa) - y' D s=-0.007096195800478933\n",
      "terminates after 22 iterations:\n",
      "  - alpha=-1.42992\n",
      "  - residual=-0.00051\n",
      "816 ms ± 0 ns per loop (mean ± std. dev. of 1 run, 1 loop each)\n"
     ]
    }
   ],
   "source": [
    "%timeit -n1 -r1 query_graph_using_sparse_linear_solver(g, [[w2i['happy']], [w2i['unhappy']]], kappa=0.8, solver='cg', verbose=1)\n"
   ]
  },
  {
   "cell_type": "code",
   "execution_count": 17,
   "metadata": {},
   "outputs": [
    {
     "name": "stdout",
     "output_type": "stream",
     "text": [
      "WARNING: using \"sp\", note that \"cg\" is faster\n",
      "matrices loading done\n",
      "found lambda_1= (0.02954934141842116+0j)\n",
      "at iteration 5 (alpha=-2942.97137)\n",
      "residual: sqrt(kappa) - y' D s=-0.10534945950146324\n",
      "at iteration 10 (alpha=-91.93923)\n",
      "residual: sqrt(kappa) - y' D s=-0.10529420429600755\n",
      "at iteration 15 (alpha=-2.84447)\n",
      "residual: sqrt(kappa) - y' D s=-0.06817775652856628\n",
      "at iteration 20 (alpha=-1.49728)\n",
      "residual: sqrt(kappa) - y' D s=-0.007096183642422704\n",
      "terminates after 22 iterations:\n",
      "  - alpha=-1.42992\n",
      "  - residual=-0.00051\n",
      "3min 29s ± 0 ns per loop (mean ± std. dev. of 1 run, 1 loop each)\n"
     ]
    }
   ],
   "source": [
    "%timeit -n1 -r1 query_graph_using_sparse_linear_solver(g, [[w2i['happy']], [w2i['unhappy']]], kappa=0.8, solver='sp', verbose=1)"
   ]
  },
  {
   "cell_type": "code",
   "execution_count": 19,
   "metadata": {},
   "outputs": [
    {
     "name": "stdout",
     "output_type": "stream",
     "text": [
      "speedup ratio 257.3529411764706\n"
     ]
    }
   ],
   "source": [
    "print('speedup ratio', 3.5 * 60 * 1000 / 816)\n"
   ]
  }
 ],
 "metadata": {
  "kernelspec": {
   "display_name": "Python 3",
   "language": "python",
   "name": "python3"
  },
  "language_info": {
   "codemirror_mode": {
    "name": "ipython",
    "version": 3
   },
   "file_extension": ".py",
   "mimetype": "text/x-python",
   "name": "python",
   "nbconvert_exporter": "python",
   "pygments_lexer": "ipython3",
   "version": "3.5.2"
  }
 },
 "nbformat": 4,
 "nbformat_minor": 2
}
