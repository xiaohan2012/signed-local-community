{
 "cells": [
  {
   "cell_type": "code",
   "execution_count": 244,
   "metadata": {},
   "outputs": [],
   "source": [
    "%matplotlib inline"
   ]
  },
  {
   "cell_type": "code",
   "execution_count": 198,
   "metadata": {},
   "outputs": [],
   "source": [
    "import scipy.io as sio\n",
    "import networkx as nx\n",
    "from helpers import signed_laplacian\n",
    "from core import query_graph_using_sparse_linear_solver"
   ]
  },
  {
   "cell_type": "code",
   "execution_count": 199,
   "metadata": {},
   "outputs": [],
   "source": [
    "mat_contents = sio.loadmat('data/word_sim_weighted.mat')"
   ]
  },
  {
   "cell_type": "code",
   "execution_count": 200,
   "metadata": {},
   "outputs": [],
   "source": [
    "A = mat_contents['Wemb']\n",
    "names = mat_contents['names']\n",
    "i2w = {i: names[i][0][0] for i in range(A.shape[0])}\n",
    "w2i = {w: i for i, w in i2w.items()}"
   ]
  },
  {
   "cell_type": "code",
   "execution_count": 201,
   "metadata": {},
   "outputs": [],
   "source": [
    "g = nx.from_scipy_sparse_matrix(A, edge_attribute='sign')"
   ]
  },
  {
   "cell_type": "code",
   "execution_count": 202,
   "metadata": {
    "scrolled": true
   },
   "outputs": [],
   "source": [
    "gc = max(nx.connected_component_subgraphs(g), key=len)\n",
    "mapping = {n: i for i, n in enumerate(gc.nodes())}\n",
    "w2i_new = {i2w[old]: new for old, new in mapping.items()}\n",
    "i2w_new = {new: i2w[old] for old, new in mapping.items()}\n",
    "\n",
    "gc = nx.relabel_nodes(gc, mapping=mapping)\n",
    "w2i = w2i_new\n",
    "i2w = i2w_new\n",
    "del g"
   ]
  },
  {
   "cell_type": "code",
   "execution_count": 203,
   "metadata": {},
   "outputs": [
    {
     "name": "stdout",
     "output_type": "stream",
     "text": [
      "light content fit fitting cheerful successful jolly good nice sparkling accidental proper right promising upbeat ready incidental well smiling willing meet glad\n",
      "poor melancholic ashamed unhappy blue serious unfortunate boiling down downcast disagreeable upset heavy sad dark\n"
     ]
    }
   ],
   "source": [
    "def pos_nbrs(g, word):\n",
    "    s = w2i[word]\n",
    "    return [i2w[n] for n in g.neighbors(s) if g[s][n]['sign'] > 0]\n",
    "\n",
    "def neg_nbrs(g, word):\n",
    "    s = w2i[word]\n",
    "    return [i2w[n] for n in g.neighbors(s) if g[s][n]['sign'] < 0]\n",
    "\n",
    "print(' '.join(pos_nbrs(gc, 'happy')))\n",
    "print(' '.join(neg_nbrs(gc, 'happy')))"
   ]
  },
  {
   "cell_type": "code",
   "execution_count": 263,
   "metadata": {},
   "outputs": [
    {
     "name": "stdout",
     "output_type": "stream",
     "text": [
      "matrices loading done\n",
      "found lambda_1= (0.02954934141842109+0j)\n",
      "at iteration 5 (alpha=-2942.97137)\n",
      "residual: sqrt(kappa) - y' D s=-0.10534945950146324\n",
      "at iteration 10 (alpha=-91.93923)\n",
      "residual: sqrt(kappa) - y' D s=-0.10529420429600755\n",
      "at iteration 15 (alpha=-2.84447)\n",
      "residual: sqrt(kappa) - y' D s=-0.06817775652856628\n",
      "at iteration 20 (alpha=-1.49728)\n",
      "residual: sqrt(kappa) - y' D s=-0.007096183642422593\n",
      "terminates after 22 iterations:\n",
      "  - alpha=-1.42992\n",
      "  - residual=-0.00051\n"
     ]
    }
   ],
   "source": [
    "from core import query_graph_using_sparse_linear_solver\n",
    "\n",
    "words1, words2 = ['happy'], ['unhappy']\n",
    "seeds = [[w2i[w] for w in words1], [w2i[w] for w in words2]]\n",
    "x_opt, opt_val = query_graph_using_sparse_linear_solver(gc, seeds, kappa=0.8, verbose=1)"
   ]
  },
  {
   "cell_type": "code",
   "execution_count": 264,
   "metadata": {
    "scrolled": true
   },
   "outputs": [
    {
     "name": "stderr",
     "output_type": "stream",
     "text": [
      "  0%|          | 1/200 [00:00<00:23,  8.30it/s]"
     ]
    },
    {
     "name": "stdout",
     "output_type": "stream",
     "text": [
      "sweep on top 200\n"
     ]
    },
    {
     "name": "stderr",
     "output_type": "stream",
     "text": [
      "100%|██████████| 200/200 [00:43<00:00,  5.12it/s]"
     ]
    },
    {
     "name": "stdout",
     "output_type": "stream",
     "text": [
      "best_t: 0.0036890274827451122\n",
      "comm1: [ 351  360  423  424  881 1132 1133 1794 1864 2007 2314 2670 3007 3773\n",
      " 4001 4072 4282 4501 4605 4702 4797]\n",
      "comm2: [  18   30  166  346  705 1517 1597 1774 2067 3326 3385 3818 3823 3954\n",
      " 3974 4100 4183 4368 4569 4828 4902 4932 4942]\n"
     ]
    },
    {
     "name": "stderr",
     "output_type": "stream",
     "text": [
      "\n"
     ]
    }
   ],
   "source": [
    "from core import sweep_on_x\n",
    "c1, c2, C, best_sbr, ts, sbr_list = sweep_on_x(gc, x_opt, top_k=200, verbose=1)"
   ]
  },
  {
   "cell_type": "code",
   "execution_count": 266,
   "metadata": {},
   "outputs": [
    {
     "data": {
      "text/plain": [
       "<matplotlib.lines.Line2D at 0x7f140e8a07b8>"
      ]
     },
     "execution_count": 266,
     "metadata": {},
     "output_type": "execute_result"
    },
    {
     "data": {
      "image/png": "[encoded data removed]",
      "text/plain": [
       "<matplotlib.figure.Figure at 0x7f140e8a0a20>"
      ]
     },
     "metadata": {},
     "output_type": "display_data"
    }
   ],
   "source": [
    "from matplotlib import pyplot as plt\n",
    "plt.plot(ts, sbr_list, '.-')\n",
    "plt.axvline(0.0036890274827451122, color='red')"
   ]
  },
  {
   "cell_type": "code",
   "execution_count": 268,
   "metadata": {},
   "outputs": [
    {
     "name": "stdout",
     "output_type": "stream",
     "text": [
      "blue boiling broiling brunette defeatist downbeat downcast hurting impromptu insurgent melancholic penitent repellent unfortunate worrying ashamed dreary navy sad unhappy disagreeable\n",
      "absorbent accidental antiseptic blonde content freezing glad hopeful jolly smiling sparkling upbeat uplifting well willing beautiful cheerful happy proud freely promising skillfully sweetened\n"
     ]
    },
    {
     "data": {
      "text/plain": [
       "(21, 23)"
      ]
     },
     "execution_count": 268,
     "metadata": {},
     "output_type": "execute_result"
    }
   ],
   "source": [
    "print(' '.join([i2w[n] for n in c1]))\n",
    "print(' '.join([i2w[n] for n in c2]))\n",
    "len(c1), len(c2)"
   ]
  },
  {
   "cell_type": "code",
   "execution_count": 269,
   "metadata": {},
   "outputs": [
    {
     "name": "stderr",
     "output_type": "stream",
     "text": [
      "/home/cloud-user/code/signed/helpers.py:355: RuntimeWarning: divide by zero encountered in true_divide\n",
      "  \n"
     ]
    },
    {
     "data": {
      "image/png": "[encoded data removed]",
      "text/plain": [
       "<matplotlib.figure.Figure at 0x7f140e3bd710>"
      ]
     },
     "metadata": {},
     "output_type": "display_data"
    }
   ],
   "source": [
    "from helpers import signed_layout, draw_nodes, draw_edges, get_borderless_fig\n",
    "subg = gc.subgraph(C)\n",
    "\n",
    "subg = nx.convert_node_labels_to_integers(subg)\n",
    "pos = signed_layout(subg, normalize=True)\n",
    "\n",
    "fig, ax = get_borderless_fig()\n",
    "# draw_nodes(subg, pos, ax=ax)\n",
    "nx.draw_networkx_nodes(subg, pos, node_size=100)\n",
    "draw_edges(subg, pos, ax=ax)"
   ]
  },
  {
   "cell_type": "markdown",
   "metadata": {},
   "source": [
    "# observation\n",
    "\n",
    "\n",
    "- single query node: may return multiple opposing communities\n",
    "- if kappa not set properly (e.g, 0.5), will return weird result (even not including the seed nodes), not sure why\n",
    "- however, if set high enough (0.8 for example), meaningful result is returned\n"
   ]
  }
 ],
 "metadata": {
  "kernelspec": {
   "display_name": "Python 3",
   "language": "python",
   "name": "python3"
  },
  "language_info": {
   "codemirror_mode": {
    "name": "ipython",
    "version": 3
   },
   "file_extension": ".py",
   "mimetype": "text/x-python",
   "name": "python",
   "nbconvert_exporter": "python",
   "pygments_lexer": "ipython3",
   "version": "3.5.2"
  }
 },
 "nbformat": 4,
 "nbformat_minor": 2
}
