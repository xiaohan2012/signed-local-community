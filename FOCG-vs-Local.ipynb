{
 "cells": [
  {
   "cell_type": "code",
   "execution_count": 360,
   "metadata": {},
   "outputs": [],
   "source": [
    "%matplotlib inline"
   ]
  },
  {
   "cell_type": "code",
   "execution_count": 361,
   "metadata": {},
   "outputs": [],
   "source": [
    "import pandas as pd\n",
    "import numpy as np\n",
    "import networkx as nx\n",
    "import scipy.io as sio\n",
    "import scipy.sparse as sp\n",
    "\n",
    "from matplotlib import pyplot as plt\n",
    "from helpers import draw_edges, get_borderless_fig, pos_spring_layout, signed_layout, get_lcc, signed_normalized_laplacian, flatten"
   ]
  },
  {
   "cell_type": "code",
   "execution_count": 415,
   "metadata": {},
   "outputs": [],
   "source": [
    "g = nx.read_gpickle('graphs/slashdot.pkl')\n",
    "A = nx.adj_matrix(g, weight='sign')\n"
   ]
  },
  {
   "cell_type": "code",
   "execution_count": 416,
   "metadata": {},
   "outputs": [],
   "source": [
    "df = pd.read_pickle('outputs/slashdot.pkl')"
   ]
  },
  {
   "cell_type": "code",
   "execution_count": 417,
   "metadata": {},
   "outputs": [],
   "source": [
    "df['size1'] = df['C1'].apply(lambda d: d.shape[0])\n",
    "df['size2'] = df['C2'].apply(lambda d: d.shape[0])"
   ]
  },
  {
   "cell_type": "markdown",
   "metadata": {},
   "source": [
    "# observation 1 (to be checked further)\n",
    "\n",
    "- some communities are not polarized communities (e.g, one side is empty)"
   ]
  },
  {
   "cell_type": "code",
   "execution_count": 418,
   "metadata": {},
   "outputs": [
    {
     "data": {
      "text/html": [
       "<div>\n",
       "<style scoped>\n",
       "    .dataframe tbody tr th:only-of-type {\n",
       "        vertical-align: middle;\n",
       "    }\n",
       "\n",
       "    .dataframe tbody tr th {\n",
       "        vertical-align: top;\n",
       "    }\n",
       "\n",
       "    .dataframe thead th {\n",
       "        text-align: right;\n",
       "    }\n",
       "</style>\n",
       "<table border=\"1\" class=\"dataframe\">\n",
       "  <thead>\n",
       "    <tr style=\"text-align: right;\">\n",
       "      <th></th>\n",
       "      <th>query</th>\n",
       "      <th>C1</th>\n",
       "      <th>C2</th>\n",
       "      <th>k</th>\n",
       "      <th>best_beta</th>\n",
       "      <th>beta_array</th>\n",
       "      <th>size1</th>\n",
       "      <th>size2</th>\n",
       "    </tr>\n",
       "  </thead>\n",
       "  <tbody>\n",
       "    <tr>\n",
       "      <th>22150</th>\n",
       "      <td>67674</td>\n",
       "      <td>[67674, 76209, 76207, 76210, 76208, 67673, 368...</td>\n",
       "      <td>[]</td>\n",
       "      <td>200</td>\n",
       "      <td>0.023256</td>\n",
       "      <td>[1.0, 0.8, 0.7142857142857143, 0.6666666666666...</td>\n",
       "      <td>8</td>\n",
       "      <td>0</td>\n",
       "    </tr>\n",
       "    <tr>\n",
       "      <th>23012</th>\n",
       "      <td>71413</td>\n",
       "      <td>[71413, 77220, 77221, 71412, 71410, 71411, 766...</td>\n",
       "      <td>[]</td>\n",
       "      <td>200</td>\n",
       "      <td>0.037037</td>\n",
       "      <td>[1.0, 1.0, 1.0, 0.8, 0.6, 0.23809523809523808,...</td>\n",
       "      <td>9</td>\n",
       "      <td>0</td>\n",
       "    </tr>\n",
       "    <tr>\n",
       "      <th>13212</th>\n",
       "      <td>75545</td>\n",
       "      <td>[75545, 77108, 75553, 75542, 75549, 75554, 755...</td>\n",
       "      <td>[]</td>\n",
       "      <td>200</td>\n",
       "      <td>0.041667</td>\n",
       "      <td>[1.0, 0.5, 0.6666666666666666, 0.6923076923076...</td>\n",
       "      <td>17</td>\n",
       "      <td>0</td>\n",
       "    </tr>\n",
       "    <tr>\n",
       "      <th>32639</th>\n",
       "      <td>75552</td>\n",
       "      <td>[75552, 75554, 75551, 75550, 75549, 75548, 755...</td>\n",
       "      <td>[]</td>\n",
       "      <td>200</td>\n",
       "      <td>0.041667</td>\n",
       "      <td>[1.0, 1.0, 1.0, 1.0, 1.0, 1.0, 1.0, 1.0, 1.0, ...</td>\n",
       "      <td>17</td>\n",
       "      <td>0</td>\n",
       "    </tr>\n",
       "    <tr>\n",
       "      <th>33610</th>\n",
       "      <td>73684</td>\n",
       "      <td>[73684, 73682, 73685, 73683, 73681, 11575]</td>\n",
       "      <td>[]</td>\n",
       "      <td>200</td>\n",
       "      <td>0.052632</td>\n",
       "      <td>[1.0, 0.6666666666666666, 0.5555555555555556, ...</td>\n",
       "      <td>6</td>\n",
       "      <td>0</td>\n",
       "    </tr>\n",
       "  </tbody>\n",
       "</table>\n",
       "</div>"
      ],
      "text/plain": [
       "       query                                                 C1  C2    k  \\\n",
       "22150  67674  [67674, 76209, 76207, 76210, 76208, 67673, 368...  []  200   \n",
       "23012  71413  [71413, 77220, 77221, 71412, 71410, 71411, 766...  []  200   \n",
       "13212  75545  [75545, 77108, 75553, 75542, 75549, 75554, 755...  []  200   \n",
       "32639  75552  [75552, 75554, 75551, 75550, 75549, 75548, 755...  []  200   \n",
       "33610  73684         [73684, 73682, 73685, 73683, 73681, 11575]  []  200   \n",
       "\n",
       "       best_beta                                         beta_array  size1  \\\n",
       "22150   0.023256  [1.0, 0.8, 0.7142857142857143, 0.6666666666666...      8   \n",
       "23012   0.037037  [1.0, 1.0, 1.0, 0.8, 0.6, 0.23809523809523808,...      9   \n",
       "13212   0.041667  [1.0, 0.5, 0.6666666666666666, 0.6923076923076...     17   \n",
       "32639   0.041667  [1.0, 1.0, 1.0, 1.0, 1.0, 1.0, 1.0, 1.0, 1.0, ...     17   \n",
       "33610   0.052632  [1.0, 0.6666666666666666, 0.5555555555555556, ...      6   \n",
       "\n",
       "       size2  \n",
       "22150      0  \n",
       "23012      0  \n",
       "13212      0  \n",
       "32639      0  \n",
       "33610      0  "
      ]
     },
     "execution_count": 418,
     "metadata": {},
     "output_type": "execute_result"
    }
   ],
   "source": [
    "df.sort_values(by='best_beta', ascending=True).head(5)"
   ]
  },
  {
   "cell_type": "code",
   "execution_count": 419,
   "metadata": {},
   "outputs": [
    {
     "data": {
      "text/plain": [
       "(<matplotlib.figure.Figure at 0x7f7f6954b908>,\n",
       " <matplotlib.axes._subplots.AxesSubplot at 0x7f7f69c02ac8>)"
      ]
     },
     "execution_count": 419,
     "metadata": {},
     "output_type": "execute_result"
    },
    {
     "data": {
      "image/png": "[encoded data removed]",
      "text/plain": [
       "<matplotlib.figure.Figure at 0x7f7f6954b908>"
      ]
     },
     "metadata": {},
     "output_type": "display_data"
    }
   ],
   "source": [
    "r = df.sort_values(by='best_beta', ascending=True).iloc[0]\n",
    "draw_graph(r['C1'], use_lcc=False)"
   ]
  },
  {
   "cell_type": "markdown",
   "metadata": {},
   "source": [
    "# top polarized groups\n",
    "\n",
    "- each side has reasonable size (>10)\n",
    "- and they're relatively balanced"
   ]
  },
  {
   "cell_type": "code",
   "execution_count": 421,
   "metadata": {},
   "outputs": [],
   "source": [
    "df['balancedness'] = np.minimum(df['size1'], df['size2']) / (df['size1'] + df['size2'])"
   ]
  },
  {
   "cell_type": "code",
   "execution_count": 422,
   "metadata": {},
   "outputs": [],
   "source": [
    "pol_df = df[(df['size1'] > 10) & (df['size2'] > 10) & (df['balancedness'] > 0.3)]"
   ]
  },
  {
   "cell_type": "code",
   "execution_count": 423,
   "metadata": {},
   "outputs": [
    {
     "data": {
      "text/html": [
       "<div>\n",
       "<style scoped>\n",
       "    .dataframe tbody tr th:only-of-type {\n",
       "        vertical-align: middle;\n",
       "    }\n",
       "\n",
       "    .dataframe tbody tr th {\n",
       "        vertical-align: top;\n",
       "    }\n",
       "\n",
       "    .dataframe thead th {\n",
       "        text-align: right;\n",
       "    }\n",
       "</style>\n",
       "<table border=\"1\" class=\"dataframe\">\n",
       "  <thead>\n",
       "    <tr style=\"text-align: right;\">\n",
       "      <th></th>\n",
       "      <th>query</th>\n",
       "      <th>C1</th>\n",
       "      <th>C2</th>\n",
       "      <th>k</th>\n",
       "      <th>best_beta</th>\n",
       "      <th>beta_array</th>\n",
       "      <th>size1</th>\n",
       "      <th>size2</th>\n",
       "      <th>balancedness</th>\n",
       "    </tr>\n",
       "  </thead>\n",
       "  <tbody>\n",
       "    <tr>\n",
       "      <th>31765</th>\n",
       "      <td>73654</td>\n",
       "      <td>[73654, 55935, 73655, 55936, 60591, 60585, 605...</td>\n",
       "      <td>[73653, 60596, 60595, 55929, 55926, 55931, 559...</td>\n",
       "      <td>200</td>\n",
       "      <td>0.320755</td>\n",
       "      <td>[1.0, 0.5, 0.5, 0.5555555555555556, 0.38461538...</td>\n",
       "      <td>16</td>\n",
       "      <td>11</td>\n",
       "      <td>0.407407</td>\n",
       "    </tr>\n",
       "    <tr>\n",
       "      <th>40330</th>\n",
       "      <td>73805</td>\n",
       "      <td>[73805, 59083, 59081, 59082, 73834, 73830, 738...</td>\n",
       "      <td>[56472, 69320, 25689, 25503, 25697, 25622, 178...</td>\n",
       "      <td>200</td>\n",
       "      <td>0.486705</td>\n",
       "      <td>[1.0, 1.0, 1.0, 1.0, 1.0, 1.0, 1.0, 1.0, 1.0, ...</td>\n",
       "      <td>70</td>\n",
       "      <td>43</td>\n",
       "      <td>0.380531</td>\n",
       "    </tr>\n",
       "    <tr>\n",
       "      <th>5029</th>\n",
       "      <td>73834</td>\n",
       "      <td>[73834, 59083, 59081, 59082, 73789, 73794, 737...</td>\n",
       "      <td>[56472, 69320, 25689, 25622, 25503, 25697, 178...</td>\n",
       "      <td>200</td>\n",
       "      <td>0.486705</td>\n",
       "      <td>[1.0, 1.0, 1.0, 1.0, 1.0, 1.0, 1.0, 1.0, 1.0, ...</td>\n",
       "      <td>70</td>\n",
       "      <td>43</td>\n",
       "      <td>0.380531</td>\n",
       "    </tr>\n",
       "    <tr>\n",
       "      <th>5716</th>\n",
       "      <td>73810</td>\n",
       "      <td>[73810, 59083, 59081, 59082, 73791, 73823, 738...</td>\n",
       "      <td>[56472, 69320, 25697, 25689, 25622, 25503, 178...</td>\n",
       "      <td>200</td>\n",
       "      <td>0.486705</td>\n",
       "      <td>[1.0, 1.0, 1.0, 1.0, 1.0, 1.0, 1.0, 1.0, 1.0, ...</td>\n",
       "      <td>70</td>\n",
       "      <td>43</td>\n",
       "      <td>0.380531</td>\n",
       "    </tr>\n",
       "    <tr>\n",
       "      <th>12437</th>\n",
       "      <td>32169</td>\n",
       "      <td>[32169, 65055, 59804, 59806, 59805, 49008, 321...</td>\n",
       "      <td>[59802, 77258, 59803, 74812, 61679, 41446, 490...</td>\n",
       "      <td>200</td>\n",
       "      <td>0.488550</td>\n",
       "      <td>[1.0, 1.0, 1.0, 1.0, 1.0, 1.0, 1.0, 1.0, 0.75,...</td>\n",
       "      <td>25</td>\n",
       "      <td>11</td>\n",
       "      <td>0.305556</td>\n",
       "    </tr>\n",
       "  </tbody>\n",
       "</table>\n",
       "</div>"
      ],
      "text/plain": [
       "       query                                                 C1  \\\n",
       "31765  73654  [73654, 55935, 73655, 55936, 60591, 60585, 605...   \n",
       "40330  73805  [73805, 59083, 59081, 59082, 73834, 73830, 738...   \n",
       "5029   73834  [73834, 59083, 59081, 59082, 73789, 73794, 737...   \n",
       "5716   73810  [73810, 59083, 59081, 59082, 73791, 73823, 738...   \n",
       "12437  32169  [32169, 65055, 59804, 59806, 59805, 49008, 321...   \n",
       "\n",
       "                                                      C2    k  best_beta  \\\n",
       "31765  [73653, 60596, 60595, 55929, 55926, 55931, 559...  200   0.320755   \n",
       "40330  [56472, 69320, 25689, 25503, 25697, 25622, 178...  200   0.486705   \n",
       "5029   [56472, 69320, 25689, 25622, 25503, 25697, 178...  200   0.486705   \n",
       "5716   [56472, 69320, 25697, 25689, 25622, 25503, 178...  200   0.486705   \n",
       "12437  [59802, 77258, 59803, 74812, 61679, 41446, 490...  200   0.488550   \n",
       "\n",
       "                                              beta_array  size1  size2  \\\n",
       "31765  [1.0, 0.5, 0.5, 0.5555555555555556, 0.38461538...     16     11   \n",
       "40330  [1.0, 1.0, 1.0, 1.0, 1.0, 1.0, 1.0, 1.0, 1.0, ...     70     43   \n",
       "5029   [1.0, 1.0, 1.0, 1.0, 1.0, 1.0, 1.0, 1.0, 1.0, ...     70     43   \n",
       "5716   [1.0, 1.0, 1.0, 1.0, 1.0, 1.0, 1.0, 1.0, 1.0, ...     70     43   \n",
       "12437  [1.0, 1.0, 1.0, 1.0, 1.0, 1.0, 1.0, 1.0, 0.75,...     25     11   \n",
       "\n",
       "       balancedness  \n",
       "31765      0.407407  \n",
       "40330      0.380531  \n",
       "5029       0.380531  \n",
       "5716       0.380531  \n",
       "12437      0.305556  "
      ]
     },
     "execution_count": 423,
     "metadata": {},
     "output_type": "execute_result"
    }
   ],
   "source": [
    "pol_df.sort_values(by='best_beta', ascending=True).head(5)"
   ]
  },
  {
   "cell_type": "code",
   "execution_count": 424,
   "metadata": {},
   "outputs": [],
   "source": [
    "def draw_graph(C, layout='pos', show_query=False, r=None, use_lcc=True):\n",
    "    assert layout in {'pos', 'spectral'}\n",
    "    subg = g.subgraph(C)\n",
    "    if use_lcc:\n",
    "        print('use largest CC')\n",
    "        subg = get_lcc(subg)\n",
    "    mapping = {n: i for i, n in enumerate(subg.nodes())}\n",
    "    subg = nx.relabel_nodes(subg, mapping=mapping)\n",
    "\n",
    "    if layout == 'pos':\n",
    "        pos = pos_spring_layout(subg)\n",
    "    else:\n",
    "        pos = signed_layout(subg)\n",
    "\n",
    "    fig, ax = get_borderless_fig()\n",
    "    # draw_nodes(subg, pos, ax=ax)\n",
    "    nx.draw_networkx_nodes(subg, pos, node_size=10, linewidths=0, alpha=0.5, node_color='black')        \n",
    "    if show_query:\n",
    "        nx.draw_networkx_nodes(subg, pos, nodelist=[mapping[r['query']]],\n",
    "                               node_size=80, linewidths=0,\n",
    "                               node_color='green',\n",
    "                               node_shape='s')\n",
    "    draw_edges(subg, pos, ax=ax, width=1.0, alpha=0.5)\n",
    "    return fig, ax"
   ]
  },
  {
   "cell_type": "code",
   "execution_count": 425,
   "metadata": {},
   "outputs": [],
   "source": [
    "def show_subgraph(idx):\n",
    "    r = pol_df.iloc[idx]\n",
    "    C1, C2 = map(list, [r['C1'], r['C2']])\n",
    "    C = C1 + C2\n",
    "    fig, ax = draw_graph(C, show_query=True, r=r, use_lcc=False)\n",
    "    ax.set_title('q: {}, |C1|={}, |C2|={}'.format(r['query'], r['size1'], r['size2']))\n",
    "    fig.savefig('figs/slashdot/{}.pdf'.format(r['query']))    "
   ]
  },
  {
   "cell_type": "code",
   "execution_count": 426,
   "metadata": {
    "scrolled": false
   },
   "outputs": [
    {
     "data": {
      "image/png": "[encoded data removed]",
      "text/plain": [
       "<matplotlib.figure.Figure at 0x7f7f6954b080>"
      ]
     },
     "metadata": {},
     "output_type": "display_data"
    },
    {
     "data": {
      "image/png": "[encoded data removed]",
      "text/plain": [
       "<matplotlib.figure.Figure at 0x7f7f6b20c128>"
      ]
     },
     "metadata": {},
     "output_type": "display_data"
    },
    {
     "data": {
      "image/png": "[encoded data removed]",
      "text/plain": [
       "<matplotlib.figure.Figure at 0x7f7f61077160>"
      ]
     },
     "metadata": {},
     "output_type": "display_data"
    },
    {
     "data": {
      "image/png": "[encoded data removed]",
      "text/plain": [
       "<matplotlib.figure.Figure at 0x7f7f5f4171d0>"
      ]
     },
     "metadata": {},
     "output_type": "display_data"
    }
   ],
   "source": [
    "for i in range(1, 5):\n",
    "    show_subgraph(i)"
   ]
  },
  {
   "cell_type": "markdown",
   "metadata": {},
   "source": [
    "# observation 2\n",
    "\n",
    "- some noisy nodes that are connected by negative edges \n",
    "- also nodes without any connections??"
   ]
  },
  {
   "cell_type": "markdown",
   "metadata": {},
   "source": [
    "# observation on FOCG\n",
    "\n",
    "-  only returns 3 reasonable pairs (>10 nodes together)\n"
   ]
  },
  {
   "cell_type": "code",
   "execution_count": 308,
   "metadata": {},
   "outputs": [],
   "source": [
    "fog_data = sio.loadmat('outputs/focg-slashdot.mat')"
   ]
  },
  {
   "cell_type": "code",
   "execution_count": 311,
   "metadata": {},
   "outputs": [
    {
     "name": "stdout",
     "output_type": "stream",
     "text": [
      "community sizes [200, 1]\n",
      "community sizes [200, 1]\n",
      "community sizes [45, 1]\n"
     ]
    }
   ],
   "source": [
    "fog_comms = []\n",
    "for i in range(fog_data['X_enumKOCG_cell'].shape[0]):\n",
    "    r = fog_data['X_enumKOCG_cell'][i][0]\n",
    "    if r.nnz > 20:\n",
    "        r1 = r.tocsc()\n",
    "        nnz_per = [r1[:, i].nnz for i in range(r.shape[1])]\n",
    "        print('community sizes', nnz_per)\n",
    "        fog_comms.append(r)"
   ]
  },
  {
   "cell_type": "code",
   "execution_count": 313,
   "metadata": {},
   "outputs": [],
   "source": [
    "from helpers import pos_adj, neg_adj\n",
    "def cohe(A, C):\n",
    "    n = C.shape[0]\n",
    "    return pos_adj(A[C, :][:, C]).sum() / (n * (n-1))\n",
    "def oppo(A, C1, C2):\n",
    "    n1, n2 = C1.shape[0], C2.shape[0]\n",
    "    return neg_adj(A[C1, :][:, C2]).sum() / (n1 * n2)"
   ]
  },
  {
   "cell_type": "code",
   "execution_count": 162,
   "metadata": {},
   "outputs": [
    {
     "name": "stdout",
     "output_type": "stream",
     "text": [
      "set()\n",
      "use largest CC\n",
      "set()\n",
      "use largest CC\n",
      "set()\n",
      "use largest CC\n"
     ]
    },
    {
     "data": {
      "image/png": "[encoded data removed]",
      "text/plain": [
       "<matplotlib.figure.Figure at 0x7f7f851e4c50>"
      ]
     },
     "metadata": {},
     "output_type": "display_data"
    },
    {
     "data": {
      "image/png": "[encoded data removed]",
      "text/plain": [
       "<matplotlib.figure.Figure at 0x7f7f854000f0>"
      ]
     },
     "metadata": {},
     "output_type": "display_data"
    },
    {
     "data": {
      "image/png": "[encoded data removed]",
      "text/plain": [
       "<matplotlib.figure.Figure at 0x7f7f83afe710>"
      ]
     },
     "metadata": {},
     "output_type": "display_data"
    }
   ],
   "source": [
    "for i, comm in enumerate(fog_comms):\n",
    "    C1 = set(comm[:, 0].nonzero()[0])\n",
    "    C2 = set(comm[:, 1].nonzero()[0])\n",
    "    print(C1.intersection(C2))\n",
    "    fig, ax = draw_graph(C1|C2, layout='pos')\n",
    "    fig.savefig('figs/slashdot/focg-{}.pdf'.format(i))"
   ]
  },
  {
   "cell_type": "markdown",
   "metadata": {},
   "source": [
    "# why so many disconnected nodes?\n",
    "\n",
    "in summary, some nodes (say 336 in this case) has high degree, and most of the degree comes from low ranking nodes, including it will increase $\\beta$\n",
    "\n",
    "the following code shows one specific example"
   ]
  },
  {
   "cell_type": "code",
   "execution_count": 179,
   "metadata": {},
   "outputs": [
    {
     "name": "stdout",
     "output_type": "stream",
     "text": [
      "1 community by Local\n",
      "[12, 1, 2, 1, 2, 3, 1, 1, 1, 1, 1, 1, 1, 1, 1, 1, 1, 1]\n"
     ]
    }
   ],
   "source": [
    "print('1 community by Local')\n",
    "r = pol_df.iloc[1]\n",
    "C1, C2 = map(set, (r['C1'], r['C2']))\n",
    "C = C1 | C2\n",
    "subg = g.subgraph(C)\n",
    "print(list(map(len, nx.connected_components(subg))))"
   ]
  },
  {
   "cell_type": "code",
   "execution_count": 244,
   "metadata": {},
   "outputs": [],
   "source": [
    "from core import query_graph, sweep_on_x_fast\n",
    "from helpers import pos_nbrs, neg_nbrs, sbr"
   ]
  },
  {
   "cell_type": "code",
   "execution_count": 384,
   "metadata": {},
   "outputs": [
    {
     "name": "stdout",
     "output_type": "stream",
     "text": [
      "matrices loading done\n",
      "found lambda_1= (0.017225304254288358+0j)\n",
      "at iteration 5 (alpha=-31280.04581)\n",
      "residual: sqrt(kappa) - y' D s=-0.10557280899690569\n",
      "at iteration 10 (alpha=-977.48474)\n",
      "residual: sqrt(kappa) - y' D s=-0.10557280321008966\n",
      "at iteration 15 (alpha=-30.52971)\n",
      "residual: sqrt(kappa) - y' D s=-0.10556722774233063\n",
      "at iteration 20 (alpha=-0.93737)\n",
      "residual: sqrt(kappa) - y' D s=-0.10377555670038674\n",
      "at iteration 25 (alpha=-0.01261)\n",
      "residual: sqrt(kappa) - y' D s=-0.09384016059822153\n",
      "at iteration 30 (alpha=0.01629)\n",
      "residual: sqrt(kappa) - y' D s=-0.09244043248583922\n"
     ]
    }
   ],
   "source": [
    "x, obj = query_graph(g, [[56787]], kappa=0.8, max_iter=30, verbose=1)"
   ]
  },
  {
   "cell_type": "code",
   "execution_count": 385,
   "metadata": {},
   "outputs": [],
   "source": [
    "C1, C2, C, best_t, best_beta, ts, beta_array = sweep_on_x_fast(g, x, top_k=400)"
   ]
  },
  {
   "cell_type": "code",
   "execution_count": 386,
   "metadata": {},
   "outputs": [
    {
     "name": "stdout",
     "output_type": "stream",
     "text": [
      "336's nbrs from C1, as you can see they are all + edges\n",
      "\n",
      "nbrs(12520) in g [(336, 1), (22536, 1), (67639, -1)]\n",
      "nbrs(12521) in g [(336, 1)]\n",
      "nbrs(12518) in g [(336, 1), (4440, 1), (26285, 1), (8327, -1)]\n"
     ]
    }
   ],
   "source": [
    "def nbrs(g, n):\n",
    "    return [(i, g[n][i]['sign']) for i in g.neighbors(n)]\n",
    "subg = g.subgraph(C)\n",
    "\n",
    "print('336\\'s nbrs from C1, as you can see they are all + edges\\n')\n",
    "for n in ref['C1']:\n",
    "    if 336 in list(g.neighbors(n)):\n",
    "        print('nbrs({}) in g'.format(n), nbrs(g, n))"
   ]
  },
  {
   "cell_type": "code",
   "execution_count": 387,
   "metadata": {},
   "outputs": [
    {
     "name": "stdout",
     "output_type": "stream",
     "text": [
      "pos/neg degree of 336: (which is not included in C1)\n",
      "181 81\n"
     ]
    }
   ],
   "source": [
    "print('pos/neg degree of 336: (which is not included in C1)')\n",
    "print(len(pos_nbrs(g, 336)), len(neg_nbrs(g, 336)))"
   ]
  },
  {
   "cell_type": "code",
   "execution_count": 388,
   "metadata": {},
   "outputs": [
    {
     "name": "stdout",
     "output_type": "stream",
     "text": [
      "if we include 336 into C1, the new beta would be: 0.7416452442159382\n",
      "compared to excluding 336, beta is 0.6893353941267388\n"
     ]
    }
   ],
   "source": [
    "print('if we include 336 into C1, the new beta would be:', sbr(nx.adjacency_matrix(g, weight='sign'), list(C1) + [336], C2))\n",
    "print('compared to excluding 336, beta is', best_beta)"
   ]
  },
  {
   "cell_type": "markdown",
   "metadata": {},
   "source": [
    "# sweep on $v_1$"
   ]
  },
  {
   "cell_type": "code",
   "execution_count": 337,
   "metadata": {},
   "outputs": [],
   "source": [
    "L = signed_normalized_laplacian(nx.adj_matrix(g, weight='sign'))\n",
    "l, v = sp.linalg.eigs(L, k=1, which='SM')\n",
    "v = flatten(v)\n",
    "C1, C2, C, best_t, best_beta, ts, beta_array = sweep_on_x_fast(g, v)"
   ]
  },
  {
   "cell_type": "code",
   "execution_count": 395,
   "metadata": {},
   "outputs": [
    {
     "name": "stdout",
     "output_type": "stream",
     "text": [
      "[0.0172253+0.j]\n"
     ]
    }
   ],
   "source": [
    "print(l)"
   ]
  },
  {
   "cell_type": "code",
   "execution_count": 348,
   "metadata": {},
   "outputs": [
    {
     "data": {
      "text/plain": [
       "[<matplotlib.lines.Line2D at 0x7f7f60ee36a0>]"
      ]
     },
     "execution_count": 348,
     "metadata": {},
     "output_type": "execute_result"
    },
    {
     "data": {
      "image/png": "[encoded data removed]",
      "text/plain": [
       "<matplotlib.figure.Figure at 0x7f7f610a1be0>"
      ]
     },
     "metadata": {},
     "output_type": "display_data"
    }
   ],
   "source": [
    "plt.plot(beta_array[:100])"
   ]
  },
  {
   "cell_type": "code",
   "execution_count": 347,
   "metadata": {},
   "outputs": [
    {
     "data": {
      "text/plain": [
       "(array([64535, 15651, 64536, 81185, 81187, 74228, 64534, 64533, 81186]),\n",
       " array([], dtype=int64),\n",
       " 0.27761139757001246,\n",
       " 0.018867924528301886)"
      ]
     },
     "execution_count": 347,
     "metadata": {},
     "output_type": "execute_result"
    }
   ],
   "source": [
    "C1, C2, best_t, best_beta"
   ]
  },
  {
   "cell_type": "code",
   "execution_count": 356,
   "metadata": {},
   "outputs": [
    {
     "name": "stdout",
     "output_type": "stream",
     "text": [
      "use largest CC\n"
     ]
    },
    {
     "data": {
      "text/plain": [
       "(<matplotlib.figure.Figure at 0x7f7f6104bba8>,\n",
       " <matplotlib.axes._subplots.AxesSubplot at 0x7f7f6106f908>)"
      ]
     },
     "execution_count": 356,
     "metadata": {},
     "output_type": "execute_result"
    },
    {
     "data": {
      "image/png": "[encoded data removed]",
      "text/plain": [
       "<matplotlib.figure.Figure at 0x7f7f6104bba8>"
      ]
     },
     "metadata": {},
     "output_type": "display_data"
    }
   ],
   "source": [
    "draw_graph(list(C1) + list(C2))"
   ]
  }
 ],
 "metadata": {
  "kernelspec": {
   "display_name": "Python 3",
   "language": "python",
   "name": "python3"
  },
  "language_info": {
   "codemirror_mode": {
    "name": "ipython",
    "version": 3
   },
   "file_extension": ".py",
   "mimetype": "text/x-python",
   "name": "python",
   "nbconvert_exporter": "python",
   "pygments_lexer": "ipython3",
   "version": "3.5.2"
  }
 },
 "nbformat": 4,
 "nbformat_minor": 2
}
